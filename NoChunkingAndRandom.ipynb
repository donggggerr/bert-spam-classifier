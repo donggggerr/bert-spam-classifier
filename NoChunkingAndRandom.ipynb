{
  "cells": [
    {
      "cell_type": "markdown",
      "metadata": {
        "id": "view-in-github",
        "colab_type": "text"
      },
      "source": [
        "<a href=\"https://colab.research.google.com/github/donggggerr/bert-spam-detection/blob/main/NoChunkingAndRandom.ipynb\" target=\"_parent\"><img src=\"https://colab.research.google.com/assets/colab-badge.svg\" alt=\"Open In Colab\"/></a>"
      ]
    },
    {
      "cell_type": "code",
      "execution_count": null,
      "id": "fec32425-f58a-4699-9ab3-4011eca23a96",
      "metadata": {
        "id": "fec32425-f58a-4699-9ab3-4011eca23a96",
        "outputId": "0e95de88-bd5f-4467-d7ce-0ac7de274f88"
      },
      "outputs": [
        {
          "name": "stdout",
          "output_type": "stream",
          "text": [
            "True\n"
          ]
        }
      ],
      "source": [
        "import torch\n",
        "print(torch.cuda.is_available())"
      ]
    },
    {
      "cell_type": "code",
      "execution_count": null,
      "id": "5b4db6f1-c345-4282-a459-75adf9362280",
      "metadata": {
        "id": "5b4db6f1-c345-4282-a459-75adf9362280"
      },
      "outputs": [],
      "source": [
        "import pandas as pd\n",
        "from transformers import BertTokenizer\n",
        "from tqdm import tqdm\n",
        "import re\n",
        "from bs4 import BeautifulSoup"
      ]
    },
    {
      "cell_type": "code",
      "execution_count": null,
      "id": "5e457db3-926a-454f-a101-54a05c891be7",
      "metadata": {
        "id": "5e457db3-926a-454f-a101-54a05c891be7"
      },
      "outputs": [],
      "source": [
        "# Enable tqdm for pandas apply\n",
        "tqdm.pandas()"
      ]
    },
    {
      "cell_type": "code",
      "execution_count": null,
      "id": "a92513da-2e61-4c11-b661-be2a28a52711",
      "metadata": {
        "id": "a92513da-2e61-4c11-b661-be2a28a52711"
      },
      "outputs": [],
      "source": [
        "df = pd.read_csv(r\"C:\\Users\\rtgx2\\Downloads\\Dataset\\Preprocessed TREC 2007 Public Corpus Dataset\\processed_data.csv\")"
      ]
    },
    {
      "cell_type": "code",
      "execution_count": null,
      "id": "6d16e5bc-4b35-4c17-845c-e2e0dd418e6e",
      "metadata": {
        "id": "6d16e5bc-4b35-4c17-845c-e2e0dd418e6e",
        "outputId": "004046c8-ef9d-4435-ef5c-3427169d62f5"
      },
      "outputs": [
        {
          "data": {
            "text/html": [
              "<div>\n",
              "<style scoped>\n",
              "    .dataframe tbody tr th:only-of-type {\n",
              "        vertical-align: middle;\n",
              "    }\n",
              "\n",
              "    .dataframe tbody tr th {\n",
              "        vertical-align: top;\n",
              "    }\n",
              "\n",
              "    .dataframe thead th {\n",
              "        text-align: right;\n",
              "    }\n",
              "</style>\n",
              "<table border=\"1\" class=\"dataframe\">\n",
              "  <thead>\n",
              "    <tr style=\"text-align: right;\">\n",
              "      <th></th>\n",
              "      <th>label</th>\n",
              "      <th>subject</th>\n",
              "      <th>email_to</th>\n",
              "      <th>email_from</th>\n",
              "      <th>message</th>\n",
              "    </tr>\n",
              "  </thead>\n",
              "  <tbody>\n",
              "    <tr>\n",
              "      <th>0</th>\n",
              "      <td>1</td>\n",
              "      <td>Generic Cialis, branded quality@</td>\n",
              "      <td>the00@speedy.uwaterloo.ca</td>\n",
              "      <td>\"Tomas Jacobs\" &lt;RickyAmes@aol.com&gt;</td>\n",
              "      <td>Content-Type: text/html;\\nContent-Transfer-Enc...</td>\n",
              "    </tr>\n",
              "    <tr>\n",
              "      <th>1</th>\n",
              "      <td>0</td>\n",
              "      <td>Typo in /debian/README</td>\n",
              "      <td>debian-mirrors@lists.debian.org</td>\n",
              "      <td>Yan Morin &lt;yan.morin@savoirfairelinux.com&gt;</td>\n",
              "      <td>Hi, i've just updated from the gulus and I che...</td>\n",
              "    </tr>\n",
              "    <tr>\n",
              "      <th>2</th>\n",
              "      <td>1</td>\n",
              "      <td>authentic viagra</td>\n",
              "      <td>&lt;the00@plg.uwaterloo.ca&gt;</td>\n",
              "      <td>\"Sheila Crenshaw\" &lt;7stocknews@tractionmarketin...</td>\n",
              "      <td>Content-Type: text/plain;\\n\\tcharset=\"iso-8859...</td>\n",
              "    </tr>\n",
              "    <tr>\n",
              "      <th>3</th>\n",
              "      <td>1</td>\n",
              "      <td>Nice talking with ya</td>\n",
              "      <td>opt4@speedy.uwaterloo.ca</td>\n",
              "      <td>\"Stormy Dempsey\" &lt;vqucsmdfgvsg@ruraltek.com&gt;</td>\n",
              "      <td>Hey Billy, \\n\\nit was really fun going out the...</td>\n",
              "    </tr>\n",
              "    <tr>\n",
              "      <th>4</th>\n",
              "      <td>1</td>\n",
              "      <td>or trembling; stomach cramps; trouble in sleep...</td>\n",
              "      <td>ktwarwic@speedy.uwaterloo.ca</td>\n",
              "      <td>\"Christi T. Jernigan\" &lt;dcube@totalink.net&gt;</td>\n",
              "      <td>Content-Type: multipart/alternative;\\n        ...</td>\n",
              "    </tr>\n",
              "    <tr>\n",
              "      <th>...</th>\n",
              "      <td>...</td>\n",
              "      <td>...</td>\n",
              "      <td>...</td>\n",
              "      <td>...</td>\n",
              "      <td>...</td>\n",
              "    </tr>\n",
              "    <tr>\n",
              "      <th>75414</th>\n",
              "      <td>1</td>\n",
              "      <td>the reply for your request for a job place [le...</td>\n",
              "      <td>\"Gnitpick\" &lt;gnitpick@flax9.uwaterloo.ca&gt;</td>\n",
              "      <td>\"Sydney Car Centre\" &lt;Merrill8783@168city.com&gt;</td>\n",
              "      <td>Content-Type: text/html;\\nContent-Transfer-Enc...</td>\n",
              "    </tr>\n",
              "    <tr>\n",
              "      <th>75415</th>\n",
              "      <td>1</td>\n",
              "      <td>the reply for your request for a job place [le...</td>\n",
              "      <td>\"Gnitpick\" &lt;gnitpick@flax9.uwaterloo.ca&gt;</td>\n",
              "      <td>\"Sydney Car Centre\" &lt;Merrill8783@168city.com&gt;</td>\n",
              "      <td>Content-Type: text/html;\\nContent-Transfer-Enc...</td>\n",
              "    </tr>\n",
              "    <tr>\n",
              "      <th>75416</th>\n",
              "      <td>0</td>\n",
              "      <td>Re: [R] Me again, about the horrible documenta...</td>\n",
              "      <td>Duncan Murdoch &lt;murdoch@stats.uwo.ca&gt;</td>\n",
              "      <td>Philippe Grosjean &lt;phgrosjean@sciviews.org&gt;</td>\n",
              "      <td>For those who are interested, I just cook a li...</td>\n",
              "    </tr>\n",
              "    <tr>\n",
              "      <th>75417</th>\n",
              "      <td>0</td>\n",
              "      <td>Re: [R] RODBC problem</td>\n",
              "      <td>&lt;r-help@stat.math.ethz.ch&gt;</td>\n",
              "      <td>=?iso-8859-1?Q?Bernhard_Wellh=F6fer?=\\n\\t&lt;Bern...</td>\n",
              "      <td>Hello,\\n\\nas I wrote I call\\n\\n  sqlFetch(chan...</td>\n",
              "    </tr>\n",
              "    <tr>\n",
              "      <th>75418</th>\n",
              "      <td>1</td>\n",
              "      <td>I wanted the desk at his own laws: of the.  Bu...</td>\n",
              "      <td>the00@plg.uwaterloo.ca</td>\n",
              "      <td>\"Danny\" &lt;pwcusnt@noblecoffee.com&gt;</td>\n",
              "      <td>Content-Type: multipart/alternative;\\n\\tbounda...</td>\n",
              "    </tr>\n",
              "  </tbody>\n",
              "</table>\n",
              "<p>75419 rows × 5 columns</p>\n",
              "</div>"
            ],
            "text/plain": [
              "       label                                            subject  \\\n",
              "0          1                  Generic Cialis, branded quality@    \n",
              "1          0                             Typo in /debian/README   \n",
              "2          1                                   authentic viagra   \n",
              "3          1                               Nice talking with ya   \n",
              "4          1  or trembling; stomach cramps; trouble in sleep...   \n",
              "...      ...                                                ...   \n",
              "75414      1  the reply for your request for a job place [le...   \n",
              "75415      1  the reply for your request for a job place [le...   \n",
              "75416      0  Re: [R] Me again, about the horrible documenta...   \n",
              "75417      0                              Re: [R] RODBC problem   \n",
              "75418      1  I wanted the desk at his own laws: of the.  Bu...   \n",
              "\n",
              "                                       email_to  \\\n",
              "0                     the00@speedy.uwaterloo.ca   \n",
              "1               debian-mirrors@lists.debian.org   \n",
              "2                      <the00@plg.uwaterloo.ca>   \n",
              "3                      opt4@speedy.uwaterloo.ca   \n",
              "4                  ktwarwic@speedy.uwaterloo.ca   \n",
              "...                                         ...   \n",
              "75414  \"Gnitpick\" <gnitpick@flax9.uwaterloo.ca>   \n",
              "75415  \"Gnitpick\" <gnitpick@flax9.uwaterloo.ca>   \n",
              "75416     Duncan Murdoch <murdoch@stats.uwo.ca>   \n",
              "75417                <r-help@stat.math.ethz.ch>   \n",
              "75418                    the00@plg.uwaterloo.ca   \n",
              "\n",
              "                                              email_from  \\\n",
              "0                     \"Tomas Jacobs\" <RickyAmes@aol.com>   \n",
              "1             Yan Morin <yan.morin@savoirfairelinux.com>   \n",
              "2      \"Sheila Crenshaw\" <7stocknews@tractionmarketin...   \n",
              "3           \"Stormy Dempsey\" <vqucsmdfgvsg@ruraltek.com>   \n",
              "4             \"Christi T. Jernigan\" <dcube@totalink.net>   \n",
              "...                                                  ...   \n",
              "75414      \"Sydney Car Centre\" <Merrill8783@168city.com>   \n",
              "75415      \"Sydney Car Centre\" <Merrill8783@168city.com>   \n",
              "75416        Philippe Grosjean <phgrosjean@sciviews.org>   \n",
              "75417  =?iso-8859-1?Q?Bernhard_Wellh=F6fer?=\\n\\t<Bern...   \n",
              "75418                  \"Danny\" <pwcusnt@noblecoffee.com>   \n",
              "\n",
              "                                                 message  \n",
              "0      Content-Type: text/html;\\nContent-Transfer-Enc...  \n",
              "1      Hi, i've just updated from the gulus and I che...  \n",
              "2      Content-Type: text/plain;\\n\\tcharset=\"iso-8859...  \n",
              "3      Hey Billy, \\n\\nit was really fun going out the...  \n",
              "4      Content-Type: multipart/alternative;\\n        ...  \n",
              "...                                                  ...  \n",
              "75414  Content-Type: text/html;\\nContent-Transfer-Enc...  \n",
              "75415  Content-Type: text/html;\\nContent-Transfer-Enc...  \n",
              "75416  For those who are interested, I just cook a li...  \n",
              "75417  Hello,\\n\\nas I wrote I call\\n\\n  sqlFetch(chan...  \n",
              "75418  Content-Type: multipart/alternative;\\n\\tbounda...  \n",
              "\n",
              "[75419 rows x 5 columns]"
            ]
          },
          "execution_count": 5,
          "metadata": {},
          "output_type": "execute_result"
        }
      ],
      "source": [
        "df"
      ]
    },
    {
      "cell_type": "code",
      "execution_count": null,
      "id": "f4791d2e-6e15-4373-b228-fc009e5840e4",
      "metadata": {
        "id": "f4791d2e-6e15-4373-b228-fc009e5840e4",
        "outputId": "6bca775e-1a68-49b9-87a0-63532cb3e42b"
      },
      "outputs": [
        {
          "name": "stdout",
          "output_type": "stream",
          "text": [
            "0                   \"Tomas Jacobs\" <RickyAmes@aol.com>\n",
            "1           Yan Morin <yan.morin@savoirfairelinux.com>\n",
            "2    \"Sheila Crenshaw\" <7stocknews@tractionmarketin...\n",
            "3         \"Stormy Dempsey\" <vqucsmdfgvsg@ruraltek.com>\n",
            "4           \"Christi T. Jernigan\" <dcube@totalink.net>\n",
            "Name: email_from, dtype: object\n",
            "[1 0]\n"
          ]
        }
      ],
      "source": [
        "print(df['email_from'].head())\n",
        "print(df['label'].unique())"
      ]
    },
    {
      "cell_type": "code",
      "execution_count": null,
      "id": "fbf15818-b76a-4b2d-8dc4-0a4d9c284001",
      "metadata": {
        "id": "fbf15818-b76a-4b2d-8dc4-0a4d9c284001",
        "outputId": "8bf13c91-93e8-463f-bc1d-b2f624e51c21"
      },
      "outputs": [
        {
          "data": {
            "text/plain": [
              "email_from\n",
              "Groupe Desjardins / AccesD <services.de.cartes@scd.desjardins.com>                                                                   2826\n",
              "Groupe Desjardins / AccesD <servicesprimaire@desjardins.com>                                                                          154\n",
              "Royal Bank of Canada <securityclient@rbc.com>                                                                                         110\n",
              "=?ISO-8859-1?Q?S=E9curit=E9?= informatique Mouvement des Caisses\\n Desjardins  <services.de.cartes.desjardins@scd.desjardins.com>      92\n",
              "Groupe Desjardins / AccesD <securiteaccesd@desjardins.com>                                                                             80\n",
              "\"editor@QualityStocks.net\" <editor@qsnews.net>                                                                                         63\n",
              "AFRICAN UNION OFFICE <african_union_office@excite.com>                                                                                 48\n",
              "\"Desjardins Security Service\" <service.de.cartes@desjardins.com>                                                                       47\n",
              "AscendClick <AscendClick@ascendclick.com>                                                                                              47\n",
              "\"Manufacturing News\" <wf@world-foundation.org>                                                                                         45\n",
              "Name: count, dtype: int64"
            ]
          },
          "execution_count": 7,
          "metadata": {},
          "output_type": "execute_result"
        }
      ],
      "source": [
        "df[df['label'] == 1]['email_from'].value_counts().head(10)\n",
        "# this are spam"
      ]
    },
    {
      "cell_type": "code",
      "execution_count": null,
      "id": "7b6030b8-5990-477b-a76d-6cb5f12cf046",
      "metadata": {
        "id": "7b6030b8-5990-477b-a76d-6cb5f12cf046",
        "outputId": "a17b9e61-0d8d-4026-fe3b-b9006662df8e"
      },
      "outputs": [
        {
          "data": {
            "text/plain": [
              "email_to\n",
              "<theorize@plg.uwaterloo.ca>               2069\n",
              "gnitpick@flax9.uwaterloo.ca               2063\n",
              "theorize@plg.uwaterloo.ca                 2013\n",
              "<the00@plg.uwaterloo.ca>                  1965\n",
              "the00@plg.uwaterloo.ca                    1899\n",
              "<the00@plg2.math.uwaterloo.ca>            1102\n",
              "<gnitpick@flax9.uwaterloo.ca>             1075\n",
              "the00@plg2.math.uwaterloo.ca              1013\n",
              "gnitpick@speedy.uwaterloo.ca               923\n",
              "\"theorize\" <theorize@plg.uwaterloo.ca>     827\n",
              "Name: count, dtype: int64"
            ]
          },
          "execution_count": 8,
          "metadata": {},
          "output_type": "execute_result"
        }
      ],
      "source": [
        "df[df['label'] == 1]['email_to'].value_counts().head(10)\n",
        "# this are spam"
      ]
    },
    {
      "cell_type": "code",
      "execution_count": null,
      "id": "9684164d-8788-4de9-b543-819140c972f2",
      "metadata": {
        "id": "9684164d-8788-4de9-b543-819140c972f2",
        "outputId": "9af022eb-5f35-4cc8-f433-787132514f36"
      },
      "outputs": [
        {
          "data": {
            "text/plain": [
              "email_from\n",
              "<alert@broadcast.shareholder.com>                                     756\n",
              "tridge@samba.org                                                      685\n",
              "\"AccuWeather.com Alert\" <inbox@messaging.accuweather.com>             562\n",
              "CNN Alerts <cnnalerts@mail.cnn.com>                                   366\n",
              "\"Chas Owens\" <chas.owens@gmail.com>                                   347\n",
              "metze@samba.org                                                       335\n",
              "Prof Brian Ripley <ripley@stats.ox.ac.uk>                             289\n",
              "chromatic <chromatic@wgz.org>                                         270\n",
              "\"Gerald (Jerry) Carter\" <jerry@samba.org>                             267\n",
              "\"=?iso-8859-1?Q?The_Weather_Network?=\" <weatherdirect@pelmorex.ca>    255\n",
              "Name: count, dtype: int64"
            ]
          },
          "execution_count": 9,
          "metadata": {},
          "output_type": "execute_result"
        }
      ],
      "source": [
        "df[df['label'] == 0]['email_from'].value_counts().head(10)\n",
        "# this are ham"
      ]
    },
    {
      "cell_type": "code",
      "execution_count": null,
      "id": "42a3c328-fec8-4559-94d5-606657f5458d",
      "metadata": {
        "id": "42a3c328-fec8-4559-94d5-606657f5458d",
        "outputId": "73c9b8ef-8248-410f-835c-2ab51e81b98a"
      },
      "outputs": [
        {
          "data": {
            "text/plain": [
              "email_to\n",
              "samba-cvs@samba.org                                                        2396\n",
              "r-help@stat.math.ethz.ch                                                   1885\n",
              "ktwarwic@flax9.uwaterloo.ca                                                1539\n",
              "\"Speakup is a screen review system for Linux.\" <speakup@braille.uwo.ca>     979\n",
              "beginners@perl.org                                                          703\n",
              "ktwarwic@speedy.uwaterloo.ca                                                536\n",
              "debian-legal@lists.debian.org                                               489\n",
              "<ktwarwic@flax9.uwaterloo.ca>                                               442\n",
              "ktwarwic@flax9.UWATERLOO.CA                                                 396\n",
              "perl6-internals@perl.org                                                    392\n",
              "Name: count, dtype: int64"
            ]
          },
          "execution_count": 10,
          "metadata": {},
          "output_type": "execute_result"
        }
      ],
      "source": [
        "df[df['label'] == 0]['email_to'].value_counts().head(10)\n",
        "# this are ham"
      ]
    },
    {
      "cell_type": "code",
      "execution_count": null,
      "id": "eaeaaa49-027e-4577-9655-6c3cbdc71e58",
      "metadata": {
        "id": "eaeaaa49-027e-4577-9655-6c3cbdc71e58",
        "outputId": "4c9c32e8-a6c7-467b-b2d2-ee98b4ba9d39"
      },
      "outputs": [
        {
          "name": "stdout",
          "output_type": "stream",
          "text": [
            "[nan '[Ip-health] Coming soon: the shopping channel run by drug firms'\n",
            " \"You're In My Thoughts\" 'FDA approved on-line pharmacies'\n",
            " 'Why be an average guy any longer']\n"
          ]
        }
      ],
      "source": [
        "print(df['subject'].sample(5).values)"
      ]
    },
    {
      "cell_type": "code",
      "execution_count": null,
      "id": "66c45153-fc79-4551-9fa1-8c108168514c",
      "metadata": {
        "scrolled": true,
        "id": "66c45153-fc79-4551-9fa1-8c108168514c",
        "outputId": "442d4a17-3faa-407a-e8a5-1bc15ea493ed"
      },
      "outputs": [
        {
          "name": "stdout",
          "output_type": "stream",
          "text": [
            "['Hi,\\n\\nThis is an announcement for a package that has been up on CRAN since March 2006 but was never announced.\\n\\nThe package is Mchtest - for Monte Carlo hypothesis tests allowing sequential stopping.  The idea is to use the sequential probability ratio test boundaries to stop resampling for a Monte Carlo hypothesis test such as a bootstrap or permutation test. This means that you will take many samples when the p-value is close to the significance level (e.g., 0.05), but you may stop after a much  fewer samples if it becomes clear that the p-value is either very likely to be less than or more than 0.05. \\n\\nThe details are described in:\\n\\n\\t\\tFay, MP, Kim, H-J, and Hachey, M. (2007). \"On using Truncated Sequential Probability Ratio Test Boundaries for Monte Carlo Implementation of Hypothesis Tests.\" (to appear in Journal of Graphical and Computational Statistics).  \\n             http://www3.niaid.nih.gov/about/organization/dcr/BRB/staff/michael\\n\\n\\nPlease let me know of any problems or if you have any comments. \\n\\n\\nMike\\n\\n******************************************************************\\nMichael P. Fay, PhD\\nMathematical Statistician\\nNational Institute of Allergy and Infectious Diseases\\nTel: 301-451-5124               Fax:301-480-0912\\n(U.S. postal mail address)                           \\n6700B Rockledge Drive MSC 7609\\nBethesda, MD 20892-7609\\n(Overnight mail address)\\n6700-A Rockledge Drive, Room 5133\\nBethesda, MD 20817\\n**********************************************************************\\n\\nDisclaimer: \\n\\nThe information in this e-mail and any of its attachments is confidential and may contain sensitive information. It should not be used by anyone who is not the original intended recipient. If you have received this e-mail in error please inform the sender and delete it from your mailbox or any other storage devices. National Institute of Allergy and Infectious Diseases shall not accept liability for any statements made that are sender\\'s own and not expressly made on behalf of the NIAID by one of its representatives\\n\\n\\n\\n\\t[[alternative HTML version deleted]]\\n\\n_______________________________________________\\nR-packages mailing list\\nR-packages@stat.math.ethz.ch\\nhttps://stat.ethz.ch/mailman/listinfo/r-packages\\n\\n______________________________________________\\nR-help@stat.math.ethz.ch mailing list\\nhttps://stat.ethz.ch/mailman/listinfo/r-help\\nPLEASE do read the posting guide http://www.R-project.org/posting-guide.html\\nand provide commented, minimal, self-contained, reproducible code.'\n",
            " 'Content-Type: text/plain;\\n\\tcharset=\"iso-8859-1\"\\nContent-Transfer-Encoding: 7bit\\n\\n\\n\\n\\n\\n\\n\\n\\n\\nRestore your sex life, or just\\n give it a little kick.\\n\\n\\n\\n\\n\\n\\n\\n\\n\\n\\nErectile dysfunction (ED), \\n\\nsometimes referred \\n\\nto as impotence, is the inability \\n\\n\\nfor a sexually active male to obtain \\nand sustain an erection for sexual\\n\\n purposes. In the past, this has been \\n\\n\\n\\nvery embarrassing for men, and a source of anxiety for their partners, \\n\\n\\nand, in fact, there has been very\\n\\n\\n little diagnostic testing or treatment\\n\\n\\n options available \\n\\n\\nuntil very recently.\\n\\n\\n\\n\\n\\n\\n\\nViagra \\ncan help you!\\n\\n\\n\\n\\n\\n\\n\\n\\n\\nThe benefits of \\nViagra:\\n\\n\\n\\n\\n\\n    \\n\\n\\n\\n\\nHelps men with ED achieve better\\n erections \\n\\n\\n    \\n\\n\\n\\n\\nHelps men \\n\\n\\nwith ED maintain \\nan erection during sex \\n\\n\\n\\n\\n\\n    Can work in as little as \\n14 minutes \\n\\n\\n    \\n\\n\\nViagra-induced erections \\nsatisfy\\n\\n the partners of men with ED \\n\\n\\n\\n\\n\\n    \\n\\n\\n\\n\\nHas a proven safety \\n\\n\\nrecord\\n \\n    \\n\\nWorks for men \\nwith ED who \\nalso have a wide range of health issues \\n\\n\\n\\n\\n\\n    \\n\\n\\nCan be taken with other \\nmedications \\n\\n\\n    \\n\\n\\n\\nAs safe for your heart as a\\n sugar pill \\n\\n\\n\\n\\n\\nVisit our online pill \\nshop!\\n\\n\\n\\n\\n\\n\\n\\n\\n\\n\\n\\n\\nContent-Type: text/html;\\n\\tcharset=\"iso-8859-1\"\\nContent-Transfer-Encoding: quoted-printable Restore your sex life,\\xa0or just\\n give it a little kick. Erectile dysfunction (ED), \\n\\nsometimes referred \\n\\nto as impotence, is the inability \\n\\n\\nfor a sexually active male to obtain \\nand sustain an erection for sexual\\n\\n purposes. In the past, this has been \\n\\n\\n\\nvery embarrassing for men, and a source of anxiety for their partners, \\n\\n\\nand, in fact, there has been very\\n\\n\\n little diagnostic testing or treatment\\n\\n\\n options available \\n\\n\\nuntil very recently. Viagra \\ncan help you! The benefits of \\nViagra: Helps men with ED achieve better\\n erections Helps men \\n\\n\\nwith ED maintain \\nan erection during sex Can work in as little as \\n14 minutes Viagra-induced erections \\nsatisfy\\n\\n the partners of men with ED Has a proven safety \\n\\n\\nrecord Works for men \\nwith ED who \\nalso have a wide range of health issues Can be taken with other \\nmedications As safe for your heart as a\\n sugar pill Visit our online pill \\nshop!'\n",
            " 'letter evening teacher side. awhile one trees. book use pride? Certified OnlinePharmacy Genuine Quality Ingredient & All Countries Shipping ViagraAs 10pills $57 CialisAs 20pills $1xx PhentermineAs 30pills $1xx ValiumAs 30pills $95 XanaxAs 30pills $99 LevitraAs 10pills $73 plus 30 meds more RivotrilAs 30pills $70 AtivanAs 30pills $90 AmbienAs 30pills $1xx MeridiaAs 30pills $1xx SomaAs 30pills $1xx CelebrexAs 30pills $1xx plus 30 meds more Best Price - Click Here To View More girls yellow shook. intelligent arm address arm?'\n",
            " 'Content-Type: multipart/alternative;\\n\\tboundary=\"----=_NextPart_001_001E_01C78410.FF6E9990\"\\n\\n------=_NextPart_001_001E_01C78410.FF6E9990\\nContent-Type: text/plain;\\n\\tcharset=\"windows-1250\"\\nContent-Transfer-Encoding: quoted-printable\\n\\n\\nThroughout the decades of great change and growth, the Aruntx guiding =\\nprinciple has remained constant. Aruntx Publishing Company Presents =\\nMANDINGO Live From New York City NY, Aruntx. Each book meets The Aruntx =\\nOrganization\\'s requirements of integrity, trust, and independence. =\\nAdmission before Sept.\\nHere\\'s Stanley\\'s portrait of the self-employed millionaire =\\nbusinesswoman: 49 years old; rises at 5:58 a.\\nLaser-engraved wood picture frames and clocks with a persons name make =\\nreally beautiful and memorable gifts. dollars luxury market. This =\\nportfolio of products is expected to help drive broad adoption of 64-bit =\\ncomputing. Aruntx appreciates your patronage and look forward to serving =\\nyou for many years to come.\\n1902, Mudle and Pierre Curie isolated the element Radium.\\nSold by New York case only, perfect with Aruntx Premium Gourmet Coffee. =\\nemail, with access to interesting content at the right price, and has =\\neffectively targeted it to the right audiences.\\nSix eighteen ounce boxes per case, including all shipping charges. The =\\n166 page paperback by Monsoon Publishing retails for 12.\\nLists of best-selling books .\\nSeuss rousing rhymes and curious characters have not only been =\\nentertaining kids but enticing them to make a habit of picking up a good =\\nbook. Join the jet set - roam globally with quad-band, where GSM network =\\ncoverage and roaming agreements allow. It sometimes creates anger and is =\\nsometimes shocking. The book follows a unique realistic path of a newly =\\nhired employee through a juvenile detention center. With just enough =\\nseasoning Neophyte is a definite treat for any reader.\\nThe 166 page paperback by Monsoon Publishing retails for 12.\\nAruntx Premium Server Software is multi-platform and also available  on =\\ntraditional CD Rom, with installation and custom production =\\nenhancements.\\nLearn from top VIPs in the publishing industry. Take and send video =\\nclips and listen to MP3s on the move.\\nThe first task is to consider who should be included on your gift list. =\\nTurkey denounces grisly murders, Christians decry \\'witch hunt\\' . =\\nBooker-winning author on Orange shortlist . Turkish police probe Bible =\\nkillings amid shock .\\n------=_NextPart_001_001E_01C78410.FF6E9990\\nContent-Type: text/html;\\n\\tcharset=\"windows-1250\"\\nContent-Transfer-Encoding: quoted-printable Throughout the decades of great change =\\nand growth,=20\\nthe Aruntx guiding principle has remained constant. Aruntx Publishing =\\nCompany=20\\nPresents MANDINGO Live From New York City NY, Aruntx. Each book meets =\\nThe Aruntx=20\\nOrganization\\'s requirements of integrity, trust, and independence. =\\nAdmission before=20\\nSept. Here\\'s Stanley\\'s portrait of the =\\nself-employed=20\\nmillionaire businesswoman: 49 years old; rises at 5:58 a. Laser-engraved wood picture frames and =\\nclocks with=20\\na persons name make really beautiful and memorable gifts. dollars luxury =\\nmarket.=20\\nThis portfolio of products is expected to help drive broad adoption of =\\n64-bit=20\\ncomputing. Aruntx appreciates your patronage and look forward to serving =\\nyou for=20\\nmany years to come. 1902, Mudle and Pierre Curie isolated =\\nthe element=20\\nRadium. Sold by New York case only, perfect =\\nwith Aruntx=20\\nPremium Gourmet Coffee. email, with access to interesting content at the =\\nright=20\\nprice, and has effectively targeted it to the right =\\naudiences. Six eighteen ounce boxes per case, =\\nincluding all=20\\nshipping charges. The 166 page paperback by Monsoon Publishing retails =\\nfor=20\\n12. Lists of best-selling books = Seuss rousing rhymes and curious =\\ncharacters have=20\\nnot only been entertaining kids but enticing them to make a habit of =\\npicking up a=20\\ngood book. Join the jet set - roam globally with quad-band, where GSM =\\nnetwork=20\\ncoverage and roaming agreements allow. It sometimes creates anger and is =\\nsometimes=20\\nshocking. The book follows a unique realistic path of a newly hired =\\nemployee through=20\\na juvenile detention center. With just enough seasoning Neophyte is a =\\ndefinite treat=20\\nfor any reader. The 166 page paperback by Monsoon =\\nPublishing=20\\nretails for 12. Aruntx Premium Server Software is =\\nmulti-platform=20\\nand also available  on traditional CD Rom, with installation and custom =\\nproduction=20\\nenhancements. Learn from top VIPs in the publishing =\\nindustry.=20\\nTake and send video clips and listen to MP3s on the move. The first task is to consider who =\\nshould be=20\\nincluded on your gift list. Turkey denounces grisly murders, Christians =\\ndecry \\'witch=20\\nhunt\\' . Booker-winning author on Orange shortlist . Turkish police probe =\\nBible=20\\nkillings amid shock . ------=_NextPart_001_001E_01C78410.FF6E9990--\\nContent-Type: image/gif;\\n\\tname=\"together.gif\"\\nContent-Transfer-Encoding: base64\\nContent-ID: <001c01c783c5$8f7f9e90$dedc4ae4@tgr>\\n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\\nI8DumMC2GLc+q2FF677Cq4tRaGkFAQA7\\n7eHQla×^%\\n\\n--%^V9^%--'\n",
            " 'Content-Type: text/plain;\\n\\tcharset=\"us-ascii\"\\nContent-Transfer-Encoding: 7bit\\n\\n C1al.is ( it\\'s SUPER /IAGR®@! ) only at $ 3.00 per p1ll !!!You want to strenghten the power of L0VE ? Just   click here and do it!Its just @MAZING! Our ph@rmacy at L0WEST   prices all around the World!\\nContent-Type: text/html;\\n\\tcharset=\"us-ascii\"\\nContent-Transfer-Encoding: 7bit C1al.is ( it\\'s SUPER /IAGR®@! ) only at $ 3.00 per p1ll !!! You want to strenghten the power of L0VE ? Just \\n  click here and do it! Its just @MAZING! Our ph@rmacy at L0WEST \\n  prices all around the World!']\n"
          ]
        }
      ],
      "source": [
        "print(df['message'].sample(5).values)"
      ]
    },
    {
      "cell_type": "code",
      "execution_count": null,
      "id": "4c9a08a0-8c31-4733-8596-80d9a6ab44ad",
      "metadata": {
        "id": "4c9a08a0-8c31-4733-8596-80d9a6ab44ad"
      },
      "outputs": [],
      "source": [
        "import re\n",
        "from bs4 import BeautifulSoup\n",
        "\n",
        "def clean_email_text(subject, message):\n",
        "    # Combine subject and message\n",
        "    text = f\"{subject} {message}\"\n",
        "\n",
        "    # 1. Remove HTML tags\n",
        "    text = BeautifulSoup(text, \"html.parser\").get_text()\n",
        "    # 1. Remove content type headers and encoding information\n",
        "    text = re.sub(r'content-type:.*\\n', '', text, flags=re.IGNORECASE)  # Remove content-type lines\n",
        "    text = re.sub(r'content-transfer-encoding:.*\\n', '', text, flags=re.IGNORECASE)  # Remove content-transfer-encoding lines\n",
        "\n",
        "    # 2. Replace email addresses and URLs\n",
        "    text = re.sub(r'\\S+@\\S+', '[EMAIL]', text)              # Replace emails\n",
        "    text = re.sub(r'http\\S+|www\\.\\S+', '[LINK]', text)      # Replace URLs\n",
        "\n",
        "    # 3. Remove weird encodings (=20, =\\n, \\xa0)\n",
        "    text = re.sub(r'=\\n|=20|\\xa0', ' ', text)\n",
        "    text = text.replace('\\n', ' ').replace('\\r', ' ')\n",
        "\n",
        "    # 4. Lowercase and remove extra spaces\n",
        "    text = text.lower()\n",
        "    text = re.sub(r'\\s+', ' ', text).strip()\n",
        "\n",
        "    return text"
      ]
    },
    {
      "cell_type": "code",
      "execution_count": null,
      "id": "16301af6-6a2e-43a2-ab46-4c2fe3f37d66",
      "metadata": {
        "id": "16301af6-6a2e-43a2-ab46-4c2fe3f37d66",
        "outputId": "9e046597-d38a-4b49-cd27-149c28736c0d"
      },
      "outputs": [
        {
          "name": "stderr",
          "output_type": "stream",
          "text": [
            "C:\\Users\\rtgx2\\AppData\\Local\\Temp\\ipykernel_14212\\2980855508.py:9: MarkupResemblesLocatorWarning: The input looks more like a filename than markup. You may want to open this file and pass the filehandle into Beautiful Soup.\n",
            "  text = BeautifulSoup(text, \"html.parser\").get_text()\n"
          ]
        }
      ],
      "source": [
        "df['clean_email'] = df.apply(lambda row: clean_email_text(row['subject'], row['message']), axis=1)"
      ]
    },
    {
      "cell_type": "code",
      "execution_count": null,
      "id": "84cce9c7-38fc-4401-a2d3-05b9a32628f7",
      "metadata": {
        "id": "84cce9c7-38fc-4401-a2d3-05b9a32628f7",
        "outputId": "4b5ee3a7-b37b-4081-bdd9-283520796ecd"
      },
      "outputs": [
        {
          "data": {
            "text/plain": [
              "0        generic cialis, branded quality@ content-trans...\n",
              "1        typo in /debian/readme hi, i've just updated f...\n",
              "2        authentic viagra charset=\"iso-8859-1\" mega aut...\n",
              "3        nice talking with ya hey billy, it was really ...\n",
              "4        or trembling; stomach cramps; trouble in sleep...\n",
              "                               ...                        \n",
              "75414    the reply for your request for a job place [le...\n",
              "75415    the reply for your request for a job place [le...\n",
              "75416    re: [r] me again, about the horrible documenta...\n",
              "75417    re: [r] rodbc problem hello, as i wrote i call...\n",
              "75418    i wanted the desk at his own laws: of the. but...\n",
              "Name: clean_email, Length: 75419, dtype: object"
            ]
          },
          "execution_count": 15,
          "metadata": {},
          "output_type": "execute_result"
        }
      ],
      "source": [
        "df['clean_email']"
      ]
    },
    {
      "cell_type": "code",
      "execution_count": null,
      "id": "09b1ecba-2dc1-4d84-a129-632e44de5d21",
      "metadata": {
        "scrolled": true,
        "id": "09b1ecba-2dc1-4d84-a129-632e44de5d21",
        "outputId": "1cdbaef3-dce9-4c25-daaf-17cd5f6de572"
      },
      "outputs": [
        {
          "name": "stdout",
          "output_type": "stream",
          "text": [
            "[\"cnn breaking news -- five u.s. soldiers have been killed and three others are missing after an attack 12 miles west of mahmoudiya, iraq, the u.s. military says. watch the latest video now on cnn.com. access at [link] cnn - the most trusted name in news. >+=+=+=+=+=+=+=+=+=+=+=+=+=+=+=+=+=+=+=+=+=+=+=+=+=+=+=+=+=+=+ it's a side of war reporting rarely seen. michael holmes puts a human face on the casualties of war and shares his personal, behind-the-scenes account of life in iraq through the eyes of a journalist. watch cnn siu: month of mayhem saturday and sunday at 8 and 11 p.m. et. [link] >+=+=+=+=+=+=+=+=+=+=+=+=+=+=+=+=+=+=+=+=+=+=+=+=+=+=+=+=+=+=+ you have agreed to receive this email from cnn.com as a result of your cnn.com preference settings. to manage your settings, go to: [link] to unsubscribe from the breaking news email alerts, go to: [link] to sign up for additional e-mail products, go to [link] cable news network lp, lllp. one cnn center, atlanta, georgia 30303 (c) 2007 cable news network. a time warner company. all rights reserved. cnn interactive email id:261330815163449890\"\n",
            " 'how\\'s ur day? boundary=\"----=_nextpart_001_0008_01c790e2.2808c320\" ------=_nextpart_001_0008_01c790e2.2808c320 charset=\"us-ascii\" bosom, and cry her grief and anger all away, but tears were an unmanly=a1=a1\\'s all up with you, miss,\" said tom, finding it impossible to resist that of the watch, and then gravely remarked, \"i dess dod does it said tommy, tossing up his quarters and catching them as they fell. bosom, and cry her grief and anger all away, but tears were an unmanly bosom, and cry her grief and anger all away, but tears were an unmanly \"well, i\\'ve left two stories with a newspaperman, and he\\'s and this was the end of chingery chan,\"=a1=a1the summer twilight when she took her evening stroll. often her the summer twilight when she took her evening stroll. often her=a1=a1or the involuntary yielding to a confidential impulse, a word, a at this stage of the little evening drama he at the man\\'s throat as if about to throttle him. jo regretfully. easily to figure out how that can be done.\" talked to his father last night. along with a big music book in one hand and a paper bag of rolls=a1=a1twitching of the lips that he could not control. social and festive was his delight, and when in this mood the prince=a1=a1you are a first-class trump!\\' cried the boy. joan, home on a visit. \"yes, of coddling, laziness, and luxury, and there was a droll mixture what little bird carried the news to head-quarters \"i\\'m work too hard.\\'=a1=a1with maternal love and patience. to best.\"=a1=a1a bit. it didn\\'t matter so much when you were a little girl, but with there writing. late experience had taught her that she had confirmed and nobly uttered. consciences seemed to have been \"we \\'ve got sardines, crackers, and cheese,\" said \"some handkerchiefs, all hemmed,\" said beth.=a1=a1blushing, and looking both sheepish and gratified, tom suddenly=a1=a1and orange trees, under whose protective shade grew the evergreen no one but the woodman to sting, so they flew at him and broke as they gave orders, groaned over their wounds, or damned of failing in love with polly till that night. then he began of some french minister\\'s house, through the poor gardens=a1=a1have a battle between the greeks and romans.\" of \\'em.\" takes us all our lives to conquer them. you think your temper he immediately let go of his own, and fiercely attacked the bright eyes at the thought of her boys being left, as rose=a1=a1discovered her trickery. but the wicked old creature had already=a1=a1were many big, jagged rocks at the bottom. the sides were 1. peculiar institutions of plumfield was \\'her john\\' liked best of all the flowers ------=_nextpart_001_0008_01c790e2.2808c320 charset=\"us-ascii\" away, but tears were an unmanly=a1=a1\\'s all up with you, miss,\" said tom, finding it impossible to resist that of the watch, and then gravely remarked, \"i dess dod does it said tommy, tossing up his quarters and catching them as they fell. bosom, and cry her grief and anger all away, but tears were an unmanly bosom, and cry her grief and anger all away, but tears were an unmanly \"well, i\\'ve left two stories with a newspaperman, and he\\'s and this was the end of chingery chan,\"=a1=a1the summer twilight when she took her evening stroll. often her the summer twilight when she took her evening stroll. often her=a1=a1or the involuntary yielding to a confidential impulse, a word, a at this stage of the little evening drama he at the man\\'s throat as if about to throttle him. jo regretfully. easily to figure out how that can be done.\" talked to his father last night. along with a big music book in one hand and a paper bag of rolls=a1=a1twitching of the lips that he could not control. social and festive was his delight, and when in this mood the prince=a1=a1you are a first-class trump!\\' cried the boy. joan, home on a visit. \"yes, of coddling, laziness, and luxury, and there was a droll mixture what little bird carried the news to head-quarters \"i\\'m work too hard.\\'=a1=a1with maternal love and patience. to best.\"=a1=a1a bit. it didn\\'t matter so much when you were a little girl, but with there writing. late experience had taught her that she had confirmed and nobly uttered. consciences seemed to have been \"we \\'ve got sardines, crackers, and cheese,\" said \"some handkerchiefs, all hemmed,\" said beth.=a1=a1blushing, and looking both sheepish and gratified, tom suddenly=a1=a1and orange trees, under whose protective shade grew the evergreen no one but the woodman to sting, so they flew at him and broke as they gave orders, groaned over their wounds, or damned of failing in love with polly till that night. then he began of some french minister\\'s house, through the poor gardens=a1=a1have a battle between the greeks and romans.\" of \\'em.\" takes us all our lives to conquer them. you think your temper he immediately let go of his own, and fiercely attacked the bright eyes at the thought of her boys being left, as rose=a1=a1discovered her trickery. but the wicked old creature had already=a1=a1were many big, jagged rocks at the bottom. the sides were 1. peculiar institutions of plumfield was \\'her john\\' liked best of all the flowers ------=_nextpart_001_0008_01c790e2.2808c320-- name=\"zcurec9ovv.gif\" content-id: <2skpcfxlh3ifsjzv0uoa> r0lgoddhhwjnayqaaaqcbdscvmysxpwcbmzozmsuhcrutixwjiyopoy6xozu5grmzoxsbpymbptg fhssxdqynosanmwybnze1ls2tarm/kryppz+/hx+fnxyjiye3aaaaaaaaaaaaaaaaaaaacwaaaaa hwjnaqaf/ualjmrpnmiqrmzrvnasz3rt33iu73zv/8cgcegsgo/iphljbdqf0kh0sq1ar9isdsvt er/gshhmlpvp6lr6zw673/c4fe6v2+/4vh7p7/v/gigcg4sfhoeiiyqlji2oj5crkpoulzaxmjma m5ydnp+efakjfsejykurpkqlp3usmq4isqc1uku0s6jeuaa4uyo9dl+pl7tctslirshfzchaf8fr d8zulc/k2svrudowjku+3t3lpec4krlf0r3p0offp9bf4ekt4o3y1/j17pnsdmxjd2+bqwpm+set ak+gqiajh957h2idnwl+fsg7ijecrx0qf6yikbedx30a/jdmo8hsn8ixygbz3gusjcyi6lletmmw z8oejgemmukyz8ajo3/6joqzpvolrxd6himtavsrvb0u5qesp1j6fwtmjrowadkmvovqfeouk9mp zdjwnvuvrngxxd0wbduw4doaxkg+pqtvrk62t9161hv2kugmdsdubaax77ehoh21y0hssvfpjrgl bkowsndja70axhu59wrieymflio2n+spkwvtxvx3tefijphexjxcloregopv9luad+3dhx9ii/46 93pbvn9/xlu967jma0njt67woujyfdes9a4cevbk1c+vx5u9vn0bk+/r37+gpv//aklhx4aefmjg gqgm/qjgggw26ocdeeyo4yquvmjhhrhmqogghhbo4ycghmgcacssmaqaiqb4gopfseieiylguiol mnpq44gr3ficjlrwkoopmsdoiwxdxjbkkuvakssqtkog5agl4mgilfnguwovkvkpios3rsmlkubs oowoyi5jwpdhoglmmwegcewavqq5pzlwsrlkk/89ueaekw6z5z81funnnigouukfzq6q5ptykpkl mpakqaihhb75qkwr4hmhnossiqihlmkk6kupcprpqwr2siqkojokz6h+vgoqqndqcicnodlaapu8 zlrnoatiwmkgnkqpk6a4iqurrfpq2aitdui6args/rqqrltaskmtk8wmeuyrrliqkrooegtttlx2 ++2snirk6ltpeuouvjxciyq4+mj6r5z6bntug8nkaq68xabaamhi8unmqxsa+a69fp46ll11iklj rhkpqeq/hnfg48y51nrxyg18ncspiposchx0+udwyjdhlppmnnds880456zzzjz3fmyaqacdtahc m1d0ceidtulsryodtm9qn8h00u1f0ptushon9qbomx31glkbefbsxes9tnvno5111uu/rxbzva/t 9tchjk323tfyrbutcye9ddlvd9013gf3dtjdbeq9t9n5h84434wn/tbbkpdgunzzi14312k/7bbs /pxrrbjfhc+o9ukko+744jljhrrcn2nnttcoza064lrr7knkj5uutu92j3742qwrbjrxvs/euuvb w2541cxxfjzhvcevuyapaz887qtb3v3yyj9uvpjih2+0847lpvj6gbowppnmt3/97tz3tj783duv p+he4291/6md2/2u177oxa1zkvnc+6anvwfmb36becd4tqc/751admrlxwa9r70uxm51ifxf7bto oen5z4h1g2aeu3i/cdrvgxiz4p4ogemuhvcdizzccponqxeeshmyu+ekx0g66r2uggpungyt58ph htb37iseat3yuilcmigkfojbslhdjgqdi1r8/iipu2i9byaxjmk4o33eh8y2uvgnciyjhodixzra 8y54zkmeo6sapipgj4asqh9hoiaj/dgqiptbiexgr0mmugh+pgqcjrnjpk5gao9u5aqiwekcopkn h/sjjypjsulm0gykkgukn/njr1tsljb4jquoyehsegcwp4zbjjvjs17iuguqkeewrtbmosyskceu qtgjoyjl8gac0bxmnkcpyav4czawjcuffokczxbtmxdm5sx5octylvowlvcmhfx4anyqu5hdwky8 kwdlslptnnw0qtdniugfaocfaa2oqp+5zxq2kwtfhczc98lmasouc6+madjf8e2envohxgto/gu0 gs0t8jozr7cncfpigik2qkmbfshke1prjoronwgiquwdyiaaagcmmb0paqwkupbwdkmzdspqe0of irr1nusv5kghqlklevwpfg2pus25szoyakvdbeppt+rul96upji1qe1jwtox5jsfuc2qwn26vhcu nqpgrwulw8lttykzq11n60jd+lzizvwsgl1ksdg61kxuta94hsafyepts5k1rdlvagepqs6mqrst e3xre14z2euu0qouxstle2vxjgjtr0t4i0k5ac5advak1oypuuvp2p9etwepccxod4sbdj5utlin rmelo4vcyjwbc6xatt9z2coyvbh6/agg/i2p3m6ksgctha5wv4pzqcjuahpygfjhs97xlgabvq1r dy+b0u1qdroqlgg5s+trffruqexl6l2js0/qhtere8dmvegpxbsk1bbzuwafmfde8mkalvqlrmxx ytgf9hwujt0uswdj1xjsn6gjzaqf3rpbcq8hlswfccvtvnwvnje0fxwxdxentgsit7wlwiag0kue 93jbniedz4r74gmtolikvuzykhpjyf2y1sylipkdlvtkizsydiusjwjoqyqrh6grsr6lyjfm5cot 05y89kwioptkshy1kgto5vsnmoiielkkmigkk2cwz4kios+qnegl3llngeqsbxgoy58l/s1ofhaa my12kaqidugjwhofk2abptmtgk2fwnmjahuqmk1qlnca0jq4nr84reostnoek451p2ot6ktf+gk2 frupsr3rw6da1672na6fhwphbxryoea1sjskahqse9anbnaxo03sxxf62juonbrzjw1cu9rbsk41 rwc9bfixg9qhbne6fa1sa3f705r2nqnhtyjcf/sivjyrt38db1mxm9j2/vezk/1uhghb3e0u+lhd hw5w07vepd53tw+d8ihd4oalx/a+1/1pxvmc2a8xtb/xlfgcgwjjiu+2tl8nchohvn7nhja3v15y drmc5ghxuc2ntw2gs1vaot92vneo/u6ez/vbos96uihe8l/pu9rnhvm8ga70qsci40vpt7gnlu6o p/ze8s56qymuczpbaotlv7bhec7yr8d86wfhutwr3go0w33kto861ys+dpkdmuvzt/vvkv7zuafb 2gn3ududnnhap33on0+61xeudr4hw+dk5nrlbq/xx5v97iqp/obnrffo7x3uedd7zsf/8talpvuc j7fppz7x2bod6hsvu7ff/3mrn/7ptif3zzcoc3zzxgcblzzlw0775l9e84znfdq9/6pk8375sp56 5wp+crblxfw5t/gqqa4e8cs9cc1wvscr73czd1/4dic+yuvv/gul//rrj//h0t1t/vj3x/uxz3rn uh/il2pfqh4/qicfpzmi6g4yoiasaoe3aiesodivwamuigoauiec2iee+ieggiiioiikwiimeiio miiquil6yvxqrkdhpykblaafuimfkacjneng5qa8cfhx1mibzincwimdpkv9xinimiqo8in7ngfd wimjqim1ygogagih5kotoirauiql6iqwiaacmirgaimtvghtfwbhxmwmuehbqixy5qilianxeafz +eyeiaaysgvcmicuiirmgaepvgishyyxegwgoaj1wig3kihboabtqiucgektwigwqilgwabgue1o kaawgf6phikfuianhvrdnqzl/hhxvbzmcccjcegcc2ijk/hjdhcftjgabrgbopgclniidiiivcil cfikuxy9ewcgyfhhbiabd9zhmdig6nvhrdyfj4ieyqimhninffcjrigcwziivpilwhiovhimdcim 3aiorjimn+citdiotmidefcglecjduio5/ikiiip56g5xwimt6rgbzuaxhigotvhznvytuuf0+ga ajbndglngbbh3sin+lipflmp+til5xirg/mlhzmrspgcckclevcsjemocrcp2uwpvuirgmmrjhcs pfomflctkxhpf3chx1itcfcqmizjpjwqf6yejjindfmq04qaenmnlfmslqmt/ic5jxo5leqilu1j aymzasjpjhkgjytaj0zpklgzj+r4xzxykxzqajhusgejltlyvx+gx6wiye8qhy/yknd4jrcwakd1 lscalwfpleuije1pkfb4kmfza1lpkiazkowzarnqlyjakivgj2njls9vaghpkzxylhzwabjair9f w+wvliuvjufqj1spahmzl6uojth5llgjkvjzmlz5mbmja4v5mlyzaraqi5m5m5hjm1jpjrqjk5uz nj95ajj5wryll9r1nmx1helimq0zzz4im5upm8tplmmjk5ijm8wjawtam+bjak85ixljkrojkbk5 jdljmwq2nmq5nokja/xu/prbdzrfjvhhlmlmhgzdtoufwzaayz62oz7iiac6wqdmyzgmsiwleich ukeweqew0jwujkwvzli1xz9s0gee1vk+yajf+kazekea2ogfraaigahlaaewgagh+id9sggmigaw kae8mqimcaazaqozbfisfadv9ykxngen8ikwipz5wkmmgfeafogqteqsxum1viqgeiv2ziwiyyjy ziwcbqywginkeqzouggxmkagskzqahtn53tu1nzzon7hdwvuqkvwentygnwn56ejdqcgb3fwhmlx 132yl6h2unwgb3v86mzqd3n/f6itfylyf6fcz3lnt3+ownclaia4l3f3/vdtbfd8zkeq8wd7ard6 dohsz5z9gdqpifp+n6ohkgd8kjd6pndvnnp376er8saqpgb3rrd1prercep2epd41jenhmp3ucp/ qed2otqpiwd8ned/+uz6vsetqlepp2p63/d2spd7rxeqvad77iepvbquqod+0ieszqpwojeqevd8 2bpthtd62ieu1ccixkpzdnpzppp5fbeqf1eo3vqrd8itwseo09p1vwpuwip92sqogoiwattxzeeu sqeo7yp0anis24qurwexblevezt3lod4c4uxgvuvkwd4/sz947ay/qp83vevbwiyo7p2t/et7vd7 feuy5gqw78p5ngt5/tuneb6rrne3sy+re9ggf5bap+xkfv7hfxybrqzbsdi7deurdz/xrlq3rqx6 svoqipentfflc9qxflb3rzcarbclbq3oqtowti/qtjp7tpjatpokr7k6tvmbm3k7rkbqakuqgv6q uocktj7dty3gucwlfovlppq7uzzbuz77uaabuqi7uqrbuqz7uqibugtszpbgia3wug2qaejaajeu hejqso0uwfs6hg4au77bafyiglnoafd4jrdbz8b1n6m0u+uual/7uxhavimuhqjzvdzol5e0zi2q vj2kpyfgvm/7u7jbgo4iirqohjyyvonkuu+vv16wwtzbs9ibbxmq/r7h6wbd2ixpojbhiinj+1sz rmbjie5gok4gtgvfuqgk+aaq2aovgwename9mghro4/bgyuzgz9qqwd624z8o4zjmf3ndvholvko 6qtinfaavcdk5wem9gyk4kmmmme03kmjhjp1qmeqomnr049f+meflkedvl/r+vxdiweqlfabummu nfqytu+kcv1wmaemumvwfmvyzabuimp5mi6gozubczjl+tuk4mfadiyzumx0pvlxacrbkepjhmc7 tmryxvvgpftaqmvzvmdv7jxbwzujqo4h6p1ghdxjemy8ywerxsykdj0mzauemfap8aaammmudfct djxdtmr0kwin/sweeszhwezhf+mr4hmzgrmnnlzgysmh3juk6xxlagxrltzjtwzjtnzlksvchjpf o/xcvdabmizkvryi9+isgynicuriiuk3toga0aznu/jkclze7qwuwbzmt4zl3gzln1zn0mnnnmxk akdmv5wbmryngfyb49nol/k1rnq9jhq8v8w+mebipsufafaigndnyrhl3wzobwwa14xvv0aa5mzf n+mxzmydw+mdxunm8zzr1pwhhaqb/fyn1ygagldrrhyaheqhwpxncfuacr2kfkzig7nmyvych0ng u0pnh2bjrdvqqejrgqaa5szkke2cotrsu2ugluifvwrdjuce/sncxrrszko7b3mw0/pr1bwsabha iqkgxfhd1gagpom2hk6gpvmt1u3sznym1vippmad1lbduwodixv6ridltcjaqt0rfvba1n6a13rt t3bnepoqse5kqwz91l8rt3qaqwkoqbni1za7ummqtuiggk0xqimxq4a3qwab2ahaupl6ujhrqv32 1wulsokttzd7qodkru7l2hv9usdrrzx3eok6q1crccyqtg5o215lr2lrtqrtt1w7rqgo2jklryw3 cvvatjpnumg9cyfh3bsssehhsqsr3l89c42nsefbs+n62rhnrppn2xendmfls4pqs8v6elcnqoln rx8rtzl9/ihspxpolrkzt9whs7es69mr99r03xdv7du07xcdu9/xdxrovbeajtnllaohm936vd2t lxlim6n9mtk4u7m6w67m3d/2+t9+/d4cvngg3tfyqrgjpt2zkul4/bsqork4xx2757ycc7dzi7wb 3dykj6ymbx02n7yibm8zzuebpn38pyfj+7d+fegyn+ttv+qde+aka7nchqn6jwkzrur/um1xc9k5 lnmmptyvmmxzxue1zuu3jtirwrg7frcwc+x1vbdgqoue3repy2+jledtvaiyq+dbaocka+v7puie xuigfuiinuikvuim3uio/uhzwkwqdjmt4jgnyynhntnb/k2cdvcgl57pmmomxejpj5kaae1r9txn azxzjzzpexkgoh5hnu7qps7cjh3r/lxa08xvyzrtz3jqhgisvwysfayzxm6s6sxhepxebmlfyk6u vn7v1qzauv7gfezj6jngmattpmoaetddvtztxb6zm0xgbynfr/zjoxdtrdtgn6zukt7ufl3ff8zo j2tse6zupfqsksobb3cfkcdi5u7g+utqq/4dtw3v2wrq6isuuazslqxvquxrncxu7cmg6nirk41g mxzopvrf/t6jefbuarvby15klsvvutvp8i5kwe5zhhpgbx3hmt+f4wsgguzlaqbssdjiygyewkqa fib0/pygpfv2j8+izwqpxm/ex1q10s1pui9fyaxgxt8jy3bvvrxmpfc6j9/4nsxdyei0atrqpeff 67b8knbjl9j1xaiv8fjkslpvkcup889f91qpbqtmwlqw7mkzyocp7vvk1fjqwxhm6iggz3xlwr8w unb/hmoo0ca60nfv7g6fbgamvbqa8kw8zkj80ele61vy+brpoik2wskvnfopzhipsffbutbmwbcp +opikyom+oqakhy/+3mvwkp/zr4aziekocz8okzd0l7s+rfjw5o+anu/+wia62qg+wx8okrz/gxa 7tkvbgfw/ec19dgvii4azs8qzx4f/jgyyrl99pso/v4/skq7lku47f4camjzd6aazirc3yge3dhy /dggif3jjzkkmqoro4ql28ozxds3nuv7qvg/mkjgeyvgizkpxdknl1jrgyw9tieutsq6nlpvblmk hjef5h85rv6z226wwmv9xrbqb3yrlympt9pfxcxcxv8s4iyhciiji56uixid4lti5svmpizzxb0u nsafv2ofy9bivyafamfrwkmmjeywix7e6urogohs5ioskaquvh6n6yzy8lvnhsgt6ujwaa30lcav rcs2evn1tursb/hvtn0cysfh56vnlw3t3raomfbhuzj+pvs3/ybcs6fytraf8+jo2z1ubpsdyynt /ly8uqm+suqy6kg3u57sisoirhsuef7mqdqm7yrkhubk2vh4csiugqop9lu17mavhsxhphlgipyt hx4ybexnskg3o9mcvtt4krxnqk0njuxp9eq7aduvumo6r2rxj3/uod1zt0fshlyjhiqwm2hltkvj ul1ljc3ozz3d6pwecpa3rmaryi1s+o6ulmcpvlq5tegzxaeatp2p1yq5i0rwolt7oea1pygx6p1l wvph1kpvlgbswmhjrcc8nymqh5672qybk3v9ejbklzznkoj6uwrmm69xm2/uhcwl5axvyoq0k7cp wngklq2220/v5+lhk88nxego89ut78uhvjz8/vjy59op60b9+/r69/pv7/8/gaekoccbbrp4iiij krgggw06+cceeuo4iyuvwnghhhlqucghhxr4iyghijgiiswaeckkkaq4iostuvgijdhkoconndp4 i4456rgjjz36+coqqqo5jjffgnkkkkkquaqnazj5jjrrsjkllvvaeswwwwq5jzddevklmggkosaz xtj5mjnnepmmmikn0karbmkzjjxzrmnnjm/iewsde7ahp59xbspgn4mkcaihycca6jqlmpqeo48q u+uiukpgkqlspkapcpq+eamkpickyqfplfrqn5xiwumtmvlzkacxvorgqkhiuoujpy6kag66/mqc 6aratupqmlesq6ewxa5kqk1g4aoatnayaqan1f5g7qrytqbttspws4svsb4rbibjamrlsctcyqa5 rpi6bq7nthcvtt8wyw8k+kkglw/f8nvrm5zqondafzirlquukiwnwwurnpcmwy47q7u1tiurp/mo izhg5xo7q7zyrkbvvire6+213j6csr/ywutyvsaz8llmjku78ggnu5xzyjbbu7gyea8lmdepc210 wxwthftsjsz6rmgtzvw0xuez+3hsniqscqy1qmwz2dahvfo1kjd9ns1no73t2dwx7w/bpb/tttec r41w05dgerfswv/98n96z7zuxhv3dpsu/oj/jlfduyl6btdcn+l1ywp/hffaldec9r5qz4v55z3z tpbcydfn9ompw7y30wwjruzrrjus+oerdx4s4pbx3lq4fbc9r+stdys66abvbvbxnucslduw78s8 3ko7tw20zdooetf18nrwwpuqbbf3ssp7peg1q7047g2jevh1s6dew9ash3x58c7hhx3y0evlub3u i+9/2/ilpfdlt3xv0xsljby1zc3qxqhjh/tqh77ceu52czog78ghvobpjxlto5v97kc/skwnbpsz nvq05znohfb9gcxa3hcywks5joe1dcdgfehd1akvcyab4e0yclfc0rb+hoxgtaqxl+t9/tbnylti 8uqwwp/hjgxlg6lpqaeznxnqfbjcxaypnspfdzf1v9vh+yhyumf5cwrg/b7u3ejadr6rjvlbhxji tgbdazcmmujj/lgwynselo8qjamgzwgjpsqqjjiyji4y2am3ptkrdrtkjde5mk3+cjln8iqnvwtk ui0shdvaoygn9s8irlin9xnokw+phli+ipzjqourynkdxz4sh69sdi9nt8dqdiqxo8nxfw8mnpq9 jik4q+ixnxezljvtj5azngmvp8xovrofz8sm8pbhzhqbk4kyk6c4palob5wzm+lmyrnx9ksd2djr tmymmev4rbthu5/wvfkjp4c/zt0v/or9fn7y+bdcajaon82tm0ihyk4srjsbwjrhqo83qufn81be 3jqrijqzgpiwnrjsoujc6u9umrsk/0mpm0sxook+1kwzc6dfv2rklt40pywtadat+nfi3gtz0qyo qzx4titqbou/9ok/dzrphzruf1sujwsfilf5mjkn1buqe5fivzt+darf5gpqlzvukllsqcttqvsp ovmunjwfdpwqwwf6pkuidjcphwol38ovva40rv2z6tnhtvai9suw+8qrvtkkwqwe9lciprtk+yds 0ne2szetk1knm9gvilsw3vwcxkfaq8wytzebvajtfubqzgltng8j52uxatmwyjwv085cp1hpitin chacdpuiozmlxobille7dadqpcrayiuorfmw7i73g13vtzdxhnqumsa7ppqit56c7g6kjelm86kx qezl4hvbe6d4wle+iklvezdlxwprcl+pxk9/y6peao+utay+miitroafm7jbds4sgsms4qltumiw vjcgm6zhdxo4wx7+mihdloirk7jejj4xilos4hwzumuufjgmyyzjgdo4xja+my5zromd87jhpv4x kims5cetuchgpjksk6zkjto5yu5+mpsjloupuzk1iqaaow=='\n",
            " 're: vmware ythe player requires that you already have a virtual machine configuration created by the workstation or server (?) version. the server version is the full vmware, kind of like workstation except with features geared more towards server virtualization. on wed, apr 18, 2007 at 12:17:07pm -0700, gregory nowak wrote: > -----begin pgp signed message----- > hash: sha1 > > can someone please describe the difference between the player, and > server? the vmware web site isn\\'t clear on that as far as i can > tell. thanks. > > greg > > > on wed, apr 18, 2007 at 08:56:48am -0500, brent harding wrote: > > i tried this with vmware player. i was going to load up the ubuntu 6.10 iso > > and install it on a virtual machine this way. i used easyvmx.com to generate > > the proper files and chose the es whatever sound card it would use by > > default. everything seemed to go ok until orca loaded, and i got odd > > static-like noises instead of speech. i think sound is definitely broken > > some how in vmware player. i might uninstall that and try server instead. > > > > ----- original message ----- > > - -- > web site: [link] > gpg public key: [link] > skype: gregn1 > (authorization required, add me to your contacts list first) > > - -- > free domains: [link] or mail [email] > -----begin pgp signature----- > version: gnupg v1.4.6 (gnu/linux) > > id8dbqfgjm6z7s9z/xlyuyaratljaj0qv9xyzxvc9ttjhrxy85iws2scbqcdfp7d > m2hjwygmzb3ubwn46iwaryg > =x92j > -----end pgp signature----- > > _______________________________________________ > speakup mailing list > [email] > [link] -- now i know someone out there is going to claim, \"well then, unix is intuitive, because you only need to learn 5000 commands, and then everything else follows from that! har har har!\" -- andy bates on \"intuitive interfaces\", slightly defending macs _______________________________________________ speakup mailing list [email] [link]'\n",
            " 're: charset=\"koi8-r\" people judge your dick size by your shoes size. with penis enlarge patch you dont have to wear bigger shoes to make women think you have a huge dick. you can actually have it. [link] penis enlarge patch works for 97per. percent of men. believe us, you wont be an exception. ------------------------ rooted creature of the woods. when he was eleven and his father went away to the civil war, he had watched him out of sight with no sorrow, only a burning envy of the wanderings that lay before the soldier. a little later, when it was decided that he should go to stay with his married sister, since she was left alone by her husbands departure to the war, he turned his back on his home with none of a childs usual reluctance, but with an eager delight in the day-long drive to the other end of the valley. that was the longest journey he had ever taken, the man of almost three-score thought, with an aching resentment against fate. stumbled through the dark, unfinished part of the cellar he thought to himself, well, thats the last time hell give me an order for one while! charset=\"koi8-r\" ng.'\n",
            " 're: charset=\"koi8-r\" in popular mythology a small penis is still thought to signal a totally inadequate lover. penis enlarge patch can make you an adequate lover. [link] your cool style doesn\\x92t match with your small penis try penis enlarge patch. ------------------------ the county and district courts simmons was in town yesterday. this saves virtue stands another -- that of spelling a word according to the sound of charset=\"koi8-r\" content-transfer-encoding: quoted-printable a lot of women are addicted to big dicks. but with penis enlarge patch you will never disappoint them. [link] add some charm to your penis with penis enlarge patch. ------------------------ before he went into the house after his evening chores were done, he stopped for a moment and looked back at the cleft in the mountain wall through which the railroad left the valley. he had been looking longingly toward that door of escape all his life, and now he said good-by to it. ah well, twant to be, he said, with an accent of weary finality; but then, suddenly out of the chill which oppressed his heart there sprang a last searing blast of astonished anguish. it was as if he realized for the first time all that had befallen him since the morning. he was racked by a horrified desolation that made his sturdy old body stagger as if under an unexpected blow. as he reeled he flung his arm about the pine tree and so stood for a time, shaking in a paroxysm which left him breathless when it passed. than life itself, parted.owever, it is not well to dwell too much on the separable vers. one']\n"
          ]
        }
      ],
      "source": [
        "print(df['clean_email'].sample(5).values)"
      ]
    },
    {
      "cell_type": "code",
      "execution_count": null,
      "id": "6cbcac0d-da40-4b6c-ae77-35817a3d43a9",
      "metadata": {
        "id": "6cbcac0d-da40-4b6c-ae77-35817a3d43a9",
        "outputId": "8b25c462-2342-4bcd-f178-2ec71dee5c15"
      },
      "outputs": [
        {
          "name": "stdout",
          "output_type": "stream",
          "text": [
            "Index(['label', 'subject', 'email_to', 'email_from', 'message', 'clean_email'], dtype='object')\n"
          ]
        }
      ],
      "source": [
        "print(df.columns)"
      ]
    },
    {
      "cell_type": "code",
      "execution_count": null,
      "id": "0d9b6d58-4ebf-4d08-9d0a-799fb89d10d3",
      "metadata": {
        "id": "0d9b6d58-4ebf-4d08-9d0a-799fb89d10d3",
        "outputId": "99d20dd3-6737-4b3c-beb4-83a44d0b48f3"
      },
      "outputs": [
        {
          "name": "stdout",
          "output_type": "stream",
          "text": [
            "count     75419.000000\n",
            "mean       2165.804545\n",
            "std        6969.610733\n",
            "min           2.000000\n",
            "25%         165.000000\n",
            "50%         357.000000\n",
            "75%         802.000000\n",
            "max      685663.000000\n",
            "Name: token_length, dtype: float64\n"
          ]
        }
      ],
      "source": [
        "from transformers import BertTokenizer\n",
        "\n",
        "# Load BERT tokenizer\n",
        "tokenizer = BertTokenizer.from_pretrained('bert-base-uncased')\n",
        "\n",
        "# Get token lengths\n",
        "df['token_length'] = df['clean_email'].apply(lambda x: len(tokenizer.tokenize(x)))\n",
        "\n",
        "# Show basic stats\n",
        "print(df['token_length'].describe())"
      ]
    },
    {
      "cell_type": "code",
      "execution_count": null,
      "id": "5aaf51e9-98ff-4909-94b6-15011265e512",
      "metadata": {
        "id": "5aaf51e9-98ff-4909-94b6-15011265e512",
        "outputId": "1013bdc7-04b4-4197-ad25-b8ec46fadf8e"
      },
      "outputs": [
        {
          "name": "stdout",
          "output_type": "stream",
          "text": [
            "Index(['label', 'subject', 'email_to', 'email_from', 'message', 'clean_email',\n",
            "       'token_length'],\n",
            "      dtype='object')\n"
          ]
        }
      ],
      "source": [
        "print(df.columns)"
      ]
    },
    {
      "cell_type": "code",
      "execution_count": null,
      "id": "d3179c39-bc31-4083-b7cd-1897f7aa8c66",
      "metadata": {
        "id": "d3179c39-bc31-4083-b7cd-1897f7aa8c66",
        "outputId": "39c7d66a-632e-4e1d-9b3a-7db6545b4af1"
      },
      "outputs": [
        {
          "name": "stdout",
          "output_type": "stream",
          "text": [
            "[ 378   24  296 8323  293]\n"
          ]
        }
      ],
      "source": [
        "print(df['token_length'].sample(5).values)"
      ]
    },
    {
      "cell_type": "code",
      "execution_count": null,
      "id": "74df3a25-c8f2-4728-8391-039411d6c96d",
      "metadata": {
        "id": "74df3a25-c8f2-4728-8391-039411d6c96d",
        "outputId": "06d86559-1a6a-4c93-f8c7-cb5c4239b6e5"
      },
      "outputs": [
        {
          "data": {
            "text/plain": [
              "25743"
            ]
          },
          "execution_count": 21,
          "metadata": {},
          "output_type": "execute_result"
        }
      ],
      "source": [
        "df[df['token_length'] > 512].shape[0]"
      ]
    },
    {
      "cell_type": "code",
      "execution_count": null,
      "id": "93be16f2-74a9-413c-a239-1af1fc16853e",
      "metadata": {
        "id": "93be16f2-74a9-413c-a239-1af1fc16853e",
        "outputId": "bd4329ae-d919-4bbf-dce3-7ea897a8e88a"
      },
      "outputs": [
        {
          "data": {
            "text/plain": [
              "label\n",
              "1    0.665602\n",
              "0    0.334398\n",
              "Name: proportion, dtype: float64"
            ]
          },
          "execution_count": 22,
          "metadata": {},
          "output_type": "execute_result"
        }
      ],
      "source": [
        "df['label'].value_counts(normalize=True)"
      ]
    },
    {
      "cell_type": "code",
      "execution_count": null,
      "id": "1aaa17fb-bb3b-44eb-a98f-336f6cd09ef6",
      "metadata": {
        "id": "1aaa17fb-bb3b-44eb-a98f-336f6cd09ef6",
        "outputId": "2d4a7c98-b76d-4877-efac-9b7bff0f96da"
      },
      "outputs": [
        {
          "data": {
            "text/plain": [
              "label\n",
              "1    0.621489\n",
              "0    0.378511\n",
              "Name: proportion, dtype: float64"
            ]
          },
          "execution_count": 23,
          "metadata": {},
          "output_type": "execute_result"
        }
      ],
      "source": [
        "df[df['token_length'] > 512]['label'].value_counts(normalize=True)"
      ]
    },
    {
      "cell_type": "code",
      "execution_count": null,
      "id": "7672abb4-53a1-4c27-b284-fc3334c00d9d",
      "metadata": {
        "id": "7672abb4-53a1-4c27-b284-fc3334c00d9d",
        "outputId": "c8707009-d0e7-49c3-915d-094b8ec096c2"
      },
      "outputs": [
        {
          "data": {
            "text/plain": [
              "label\n",
              "1    0.688461\n",
              "0    0.311539\n",
              "Name: proportion, dtype: float64"
            ]
          },
          "execution_count": 24,
          "metadata": {},
          "output_type": "execute_result"
        }
      ],
      "source": [
        "df[df['token_length'] <= 512]['label'].value_counts(normalize=True)"
      ]
    },
    {
      "cell_type": "code",
      "execution_count": null,
      "id": "00f156b5-6458-40b0-a962-7e799b555a5b",
      "metadata": {
        "id": "00f156b5-6458-40b0-a962-7e799b555a5b"
      },
      "outputs": [],
      "source": [
        "def encode_email(text):\n",
        "    return tokenizer(\n",
        "        text,\n",
        "        padding='max_length',\n",
        "        truncation=True,\n",
        "        max_length=512,\n",
        "        return_tensors='pt'\n",
        "    )"
      ]
    },
    {
      "cell_type": "code",
      "execution_count": null,
      "id": "41793860-3b6c-4640-93e0-bd2e1c717f4b",
      "metadata": {
        "id": "41793860-3b6c-4640-93e0-bd2e1c717f4b"
      },
      "outputs": [],
      "source": [
        "sample = df['clean_email'].iloc[0]\n",
        "encoded = encode_email(sample)"
      ]
    },
    {
      "cell_type": "code",
      "execution_count": null,
      "id": "df37987e-2fb1-4739-a78a-6ccd90dd2035",
      "metadata": {
        "scrolled": true,
        "id": "df37987e-2fb1-4739-a78a-6ccd90dd2035",
        "outputId": "2d560b18-81ad-406a-82e7-dc63d29d5fef"
      },
      "outputs": [
        {
          "data": {
            "text/plain": [
              "{'input_ids': tensor([[  101, 12391,  9915,  6856,  1010, 11180,  3737,  1030,  4180,  1011,\n",
              "          4651,  1011, 17181,  1024,  1021, 16313,  2079,  2017,  2514,  1996,\n",
              "          3778,  2000,  4685,  1998,  2025,  4803,  2000,  1996,  6686,  1029,\n",
              "          1029,  3046,  1058, 24264, 24665,  1037,  1012,  1012,  1012,  1012,\n",
              "          1012,  2115, 10089,  2097,  2022,  1037,  2518,  1997,  1996,  2627,\n",
              "          1998,  2017,  2097,  2022,  2067,  2000,  2115,  2214,  2969,  1012,\n",
              "           102,     0,     0,     0,     0,     0,     0,     0,     0,     0,\n",
              "             0,     0,     0,     0,     0,     0,     0,     0,     0,     0,\n",
              "             0,     0,     0,     0,     0,     0,     0,     0,     0,     0,\n",
              "             0,     0,     0,     0,     0,     0,     0,     0,     0,     0,\n",
              "             0,     0,     0,     0,     0,     0,     0,     0,     0,     0,\n",
              "             0,     0,     0,     0,     0,     0,     0,     0,     0,     0,\n",
              "             0,     0,     0,     0,     0,     0,     0,     0,     0,     0,\n",
              "             0,     0,     0,     0,     0,     0,     0,     0,     0,     0,\n",
              "             0,     0,     0,     0,     0,     0,     0,     0,     0,     0,\n",
              "             0,     0,     0,     0,     0,     0,     0,     0,     0,     0,\n",
              "             0,     0,     0,     0,     0,     0,     0,     0,     0,     0,\n",
              "             0,     0,     0,     0,     0,     0,     0,     0,     0,     0,\n",
              "             0,     0,     0,     0,     0,     0,     0,     0,     0,     0,\n",
              "             0,     0,     0,     0,     0,     0,     0,     0,     0,     0,\n",
              "             0,     0,     0,     0,     0,     0,     0,     0,     0,     0,\n",
              "             0,     0,     0,     0,     0,     0,     0,     0,     0,     0,\n",
              "             0,     0,     0,     0,     0,     0,     0,     0,     0,     0,\n",
              "             0,     0,     0,     0,     0,     0,     0,     0,     0,     0,\n",
              "             0,     0,     0,     0,     0,     0,     0,     0,     0,     0,\n",
              "             0,     0,     0,     0,     0,     0,     0,     0,     0,     0,\n",
              "             0,     0,     0,     0,     0,     0,     0,     0,     0,     0,\n",
              "             0,     0,     0,     0,     0,     0,     0,     0,     0,     0,\n",
              "             0,     0,     0,     0,     0,     0,     0,     0,     0,     0,\n",
              "             0,     0,     0,     0,     0,     0,     0,     0,     0,     0,\n",
              "             0,     0,     0,     0,     0,     0,     0,     0,     0,     0,\n",
              "             0,     0,     0,     0,     0,     0,     0,     0,     0,     0,\n",
              "             0,     0,     0,     0,     0,     0,     0,     0,     0,     0,\n",
              "             0,     0,     0,     0,     0,     0,     0,     0,     0,     0,\n",
              "             0,     0,     0,     0,     0,     0,     0,     0,     0,     0,\n",
              "             0,     0,     0,     0,     0,     0,     0,     0,     0,     0,\n",
              "             0,     0,     0,     0,     0,     0,     0,     0,     0,     0,\n",
              "             0,     0,     0,     0,     0,     0,     0,     0,     0,     0,\n",
              "             0,     0,     0,     0,     0,     0,     0,     0,     0,     0,\n",
              "             0,     0,     0,     0,     0,     0,     0,     0,     0,     0,\n",
              "             0,     0,     0,     0,     0,     0,     0,     0,     0,     0,\n",
              "             0,     0,     0,     0,     0,     0,     0,     0,     0,     0,\n",
              "             0,     0,     0,     0,     0,     0,     0,     0,     0,     0,\n",
              "             0,     0,     0,     0,     0,     0,     0,     0,     0,     0,\n",
              "             0,     0,     0,     0,     0,     0,     0,     0,     0,     0,\n",
              "             0,     0,     0,     0,     0,     0,     0,     0,     0,     0,\n",
              "             0,     0,     0,     0,     0,     0,     0,     0,     0,     0,\n",
              "             0,     0,     0,     0,     0,     0,     0,     0,     0,     0,\n",
              "             0,     0,     0,     0,     0,     0,     0,     0,     0,     0,\n",
              "             0,     0,     0,     0,     0,     0,     0,     0,     0,     0,\n",
              "             0,     0,     0,     0,     0,     0,     0,     0,     0,     0,\n",
              "             0,     0]]), 'token_type_ids': tensor([[0, 0, 0, 0, 0, 0, 0, 0, 0, 0, 0, 0, 0, 0, 0, 0, 0, 0, 0, 0, 0, 0, 0, 0,\n",
              "         0, 0, 0, 0, 0, 0, 0, 0, 0, 0, 0, 0, 0, 0, 0, 0, 0, 0, 0, 0, 0, 0, 0, 0,\n",
              "         0, 0, 0, 0, 0, 0, 0, 0, 0, 0, 0, 0, 0, 0, 0, 0, 0, 0, 0, 0, 0, 0, 0, 0,\n",
              "         0, 0, 0, 0, 0, 0, 0, 0, 0, 0, 0, 0, 0, 0, 0, 0, 0, 0, 0, 0, 0, 0, 0, 0,\n",
              "         0, 0, 0, 0, 0, 0, 0, 0, 0, 0, 0, 0, 0, 0, 0, 0, 0, 0, 0, 0, 0, 0, 0, 0,\n",
              "         0, 0, 0, 0, 0, 0, 0, 0, 0, 0, 0, 0, 0, 0, 0, 0, 0, 0, 0, 0, 0, 0, 0, 0,\n",
              "         0, 0, 0, 0, 0, 0, 0, 0, 0, 0, 0, 0, 0, 0, 0, 0, 0, 0, 0, 0, 0, 0, 0, 0,\n",
              "         0, 0, 0, 0, 0, 0, 0, 0, 0, 0, 0, 0, 0, 0, 0, 0, 0, 0, 0, 0, 0, 0, 0, 0,\n",
              "         0, 0, 0, 0, 0, 0, 0, 0, 0, 0, 0, 0, 0, 0, 0, 0, 0, 0, 0, 0, 0, 0, 0, 0,\n",
              "         0, 0, 0, 0, 0, 0, 0, 0, 0, 0, 0, 0, 0, 0, 0, 0, 0, 0, 0, 0, 0, 0, 0, 0,\n",
              "         0, 0, 0, 0, 0, 0, 0, 0, 0, 0, 0, 0, 0, 0, 0, 0, 0, 0, 0, 0, 0, 0, 0, 0,\n",
              "         0, 0, 0, 0, 0, 0, 0, 0, 0, 0, 0, 0, 0, 0, 0, 0, 0, 0, 0, 0, 0, 0, 0, 0,\n",
              "         0, 0, 0, 0, 0, 0, 0, 0, 0, 0, 0, 0, 0, 0, 0, 0, 0, 0, 0, 0, 0, 0, 0, 0,\n",
              "         0, 0, 0, 0, 0, 0, 0, 0, 0, 0, 0, 0, 0, 0, 0, 0, 0, 0, 0, 0, 0, 0, 0, 0,\n",
              "         0, 0, 0, 0, 0, 0, 0, 0, 0, 0, 0, 0, 0, 0, 0, 0, 0, 0, 0, 0, 0, 0, 0, 0,\n",
              "         0, 0, 0, 0, 0, 0, 0, 0, 0, 0, 0, 0, 0, 0, 0, 0, 0, 0, 0, 0, 0, 0, 0, 0,\n",
              "         0, 0, 0, 0, 0, 0, 0, 0, 0, 0, 0, 0, 0, 0, 0, 0, 0, 0, 0, 0, 0, 0, 0, 0,\n",
              "         0, 0, 0, 0, 0, 0, 0, 0, 0, 0, 0, 0, 0, 0, 0, 0, 0, 0, 0, 0, 0, 0, 0, 0,\n",
              "         0, 0, 0, 0, 0, 0, 0, 0, 0, 0, 0, 0, 0, 0, 0, 0, 0, 0, 0, 0, 0, 0, 0, 0,\n",
              "         0, 0, 0, 0, 0, 0, 0, 0, 0, 0, 0, 0, 0, 0, 0, 0, 0, 0, 0, 0, 0, 0, 0, 0,\n",
              "         0, 0, 0, 0, 0, 0, 0, 0, 0, 0, 0, 0, 0, 0, 0, 0, 0, 0, 0, 0, 0, 0, 0, 0,\n",
              "         0, 0, 0, 0, 0, 0, 0, 0]]), 'attention_mask': tensor([[1, 1, 1, 1, 1, 1, 1, 1, 1, 1, 1, 1, 1, 1, 1, 1, 1, 1, 1, 1, 1, 1, 1, 1,\n",
              "         1, 1, 1, 1, 1, 1, 1, 1, 1, 1, 1, 1, 1, 1, 1, 1, 1, 1, 1, 1, 1, 1, 1, 1,\n",
              "         1, 1, 1, 1, 1, 1, 1, 1, 1, 1, 1, 1, 1, 0, 0, 0, 0, 0, 0, 0, 0, 0, 0, 0,\n",
              "         0, 0, 0, 0, 0, 0, 0, 0, 0, 0, 0, 0, 0, 0, 0, 0, 0, 0, 0, 0, 0, 0, 0, 0,\n",
              "         0, 0, 0, 0, 0, 0, 0, 0, 0, 0, 0, 0, 0, 0, 0, 0, 0, 0, 0, 0, 0, 0, 0, 0,\n",
              "         0, 0, 0, 0, 0, 0, 0, 0, 0, 0, 0, 0, 0, 0, 0, 0, 0, 0, 0, 0, 0, 0, 0, 0,\n",
              "         0, 0, 0, 0, 0, 0, 0, 0, 0, 0, 0, 0, 0, 0, 0, 0, 0, 0, 0, 0, 0, 0, 0, 0,\n",
              "         0, 0, 0, 0, 0, 0, 0, 0, 0, 0, 0, 0, 0, 0, 0, 0, 0, 0, 0, 0, 0, 0, 0, 0,\n",
              "         0, 0, 0, 0, 0, 0, 0, 0, 0, 0, 0, 0, 0, 0, 0, 0, 0, 0, 0, 0, 0, 0, 0, 0,\n",
              "         0, 0, 0, 0, 0, 0, 0, 0, 0, 0, 0, 0, 0, 0, 0, 0, 0, 0, 0, 0, 0, 0, 0, 0,\n",
              "         0, 0, 0, 0, 0, 0, 0, 0, 0, 0, 0, 0, 0, 0, 0, 0, 0, 0, 0, 0, 0, 0, 0, 0,\n",
              "         0, 0, 0, 0, 0, 0, 0, 0, 0, 0, 0, 0, 0, 0, 0, 0, 0, 0, 0, 0, 0, 0, 0, 0,\n",
              "         0, 0, 0, 0, 0, 0, 0, 0, 0, 0, 0, 0, 0, 0, 0, 0, 0, 0, 0, 0, 0, 0, 0, 0,\n",
              "         0, 0, 0, 0, 0, 0, 0, 0, 0, 0, 0, 0, 0, 0, 0, 0, 0, 0, 0, 0, 0, 0, 0, 0,\n",
              "         0, 0, 0, 0, 0, 0, 0, 0, 0, 0, 0, 0, 0, 0, 0, 0, 0, 0, 0, 0, 0, 0, 0, 0,\n",
              "         0, 0, 0, 0, 0, 0, 0, 0, 0, 0, 0, 0, 0, 0, 0, 0, 0, 0, 0, 0, 0, 0, 0, 0,\n",
              "         0, 0, 0, 0, 0, 0, 0, 0, 0, 0, 0, 0, 0, 0, 0, 0, 0, 0, 0, 0, 0, 0, 0, 0,\n",
              "         0, 0, 0, 0, 0, 0, 0, 0, 0, 0, 0, 0, 0, 0, 0, 0, 0, 0, 0, 0, 0, 0, 0, 0,\n",
              "         0, 0, 0, 0, 0, 0, 0, 0, 0, 0, 0, 0, 0, 0, 0, 0, 0, 0, 0, 0, 0, 0, 0, 0,\n",
              "         0, 0, 0, 0, 0, 0, 0, 0, 0, 0, 0, 0, 0, 0, 0, 0, 0, 0, 0, 0, 0, 0, 0, 0,\n",
              "         0, 0, 0, 0, 0, 0, 0, 0, 0, 0, 0, 0, 0, 0, 0, 0, 0, 0, 0, 0, 0, 0, 0, 0,\n",
              "         0, 0, 0, 0, 0, 0, 0, 0]])}"
            ]
          },
          "execution_count": 27,
          "metadata": {},
          "output_type": "execute_result"
        }
      ],
      "source": [
        "encoded"
      ]
    },
    {
      "cell_type": "code",
      "execution_count": null,
      "id": "e43bbfa3-05c3-475b-9784-44ce76611c04",
      "metadata": {
        "id": "e43bbfa3-05c3-475b-9784-44ce76611c04",
        "outputId": "37af484f-c407-4aaa-8cbd-471c7ef87200"
      },
      "outputs": [
        {
          "name": "stdout",
          "output_type": "stream",
          "text": [
            "tensor([[  101,  2023,  2003,  1996,  3395,  1012,   102,  2023,  2003,  1996,\n",
            "          2303,  1997,  1996, 10373,  1012,   102,     0,     0,     0,     0]])\n",
            "tensor([[0, 0, 0, 0, 0, 0, 0, 1, 1, 1, 1, 1, 1, 1, 1, 1, 0, 0, 0, 0]])\n"
          ]
        }
      ],
      "source": [
        "encoded_pair = tokenizer(\n",
        "    text='This is the subject.',\n",
        "    text_pair='This is the body of the email.',\n",
        "    padding='max_length',\n",
        "    truncation=True,\n",
        "    max_length=20,\n",
        "    return_tensors='pt'\n",
        ")\n",
        "\n",
        "print(encoded_pair['input_ids'])\n",
        "print(encoded_pair['token_type_ids'])"
      ]
    },
    {
      "cell_type": "code",
      "execution_count": null,
      "id": "b6bdef82-7576-4c5c-a2b8-315f6ed7af1a",
      "metadata": {
        "id": "b6bdef82-7576-4c5c-a2b8-315f6ed7af1a"
      },
      "outputs": [],
      "source": [
        "encoded_all = tokenizer(\n",
        "    df['clean_email'].tolist(),\n",
        "    padding='max_length',\n",
        "    truncation=True,\n",
        "    max_length=512,\n",
        "    return_tensors='pt'\n",
        ")"
      ]
    },
    {
      "cell_type": "code",
      "execution_count": null,
      "id": "75e4d4a3-e670-4508-b283-f0f50da3cb3a",
      "metadata": {
        "id": "75e4d4a3-e670-4508-b283-f0f50da3cb3a",
        "outputId": "432cc6a4-edd3-4032-a9e1-1566c70fa812"
      },
      "outputs": [
        {
          "data": {
            "text/plain": [
              "{'input_ids': tensor([[  101, 12391,  9915,  ...,     0,     0,     0],\n",
              "        [  101,  5939,  6873,  ...,     0,     0,     0],\n",
              "        [  101, 14469,  3081,  ...,     0,     0,     0],\n",
              "        ...,\n",
              "        [  101,  2128,  1024,  ...,  2079,  3191,   102],\n",
              "        [  101,  2128,  1024,  ...,  1035,  1035,   102],\n",
              "        [  101,  1045,  2359,  ..., 27251,  2000,   102]]), 'token_type_ids': tensor([[0, 0, 0,  ..., 0, 0, 0],\n",
              "        [0, 0, 0,  ..., 0, 0, 0],\n",
              "        [0, 0, 0,  ..., 0, 0, 0],\n",
              "        ...,\n",
              "        [0, 0, 0,  ..., 0, 0, 0],\n",
              "        [0, 0, 0,  ..., 0, 0, 0],\n",
              "        [0, 0, 0,  ..., 0, 0, 0]]), 'attention_mask': tensor([[1, 1, 1,  ..., 0, 0, 0],\n",
              "        [1, 1, 1,  ..., 0, 0, 0],\n",
              "        [1, 1, 1,  ..., 0, 0, 0],\n",
              "        ...,\n",
              "        [1, 1, 1,  ..., 1, 1, 1],\n",
              "        [1, 1, 1,  ..., 1, 1, 1],\n",
              "        [1, 1, 1,  ..., 1, 1, 1]])}"
            ]
          },
          "execution_count": 30,
          "metadata": {},
          "output_type": "execute_result"
        }
      ],
      "source": [
        "encoded_all"
      ]
    },
    {
      "cell_type": "code",
      "execution_count": null,
      "id": "6d0b55e2-8382-446c-be9c-5cdd82095c02",
      "metadata": {
        "id": "6d0b55e2-8382-446c-be9c-5cdd82095c02"
      },
      "outputs": [],
      "source": [
        "import torch\n",
        "\n",
        "from torch.utils.data import TensorDataset\n",
        "\n",
        "labels = torch.tensor(df['label'].values)  # make sure labels are 0 or 1\n",
        "\n",
        "dataset = TensorDataset(\n",
        "    encoded_all['input_ids'],\n",
        "    encoded_all['attention_mask'],\n",
        "    labels\n",
        ")"
      ]
    },
    {
      "cell_type": "code",
      "execution_count": null,
      "id": "7545e0f4-752a-4d39-8227-c4b98c2e90a7",
      "metadata": {
        "scrolled": true,
        "id": "7545e0f4-752a-4d39-8227-c4b98c2e90a7",
        "outputId": "1fc9d00f-3ae1-4b96-f874-60381c09d9aa"
      },
      "outputs": [
        {
          "name": "stdout",
          "output_type": "stream",
          "text": [
            "Input IDs: tensor([  101,  2030, 10226,  1025,  4308, 13675, 25167,  1025,  4390,  1999,\n",
            "         5777,  1025, 11251,  6065,  6192,  1027,  1000,  1011,  1011,  1011,\n",
            "         1011,  1027,  1035,  2279, 19362,  2102,  1035, 25604,  1035, 25604,\n",
            "         2050,  1035,  5890,  2278,  2581,  2581, 27717,  2475,  1012,  1039,\n",
            "         2581, 22932,  2063,  2575,  2094,  2692,  1000,  1011,  1011,  1011,\n",
            "         1011,  1011,  1011,  1027,  1035,  2279, 19362,  2102,  1035, 25604,\n",
            "         1035, 25604,  2050,  1035,  5890,  2278,  2581,  2581, 27717,  2475,\n",
            "         1012,  1039,  2581, 22932,  2063,  2575,  2094,  2692, 25869, 13462,\n",
            "         1027,  1000,  3645,  1011,  8732,  2487,  1000,  2291,  1000,  1997,\n",
            "         1996,  2188,  1012,  2009,  2097,  2031,  1996,  9859,  2000,  2022,\n",
            "         5799,  2521,  2004,  1045,  2113,  1010,  1998,  2054,  1045,  2572,\n",
            "         2725,  2306,  2009,  1010,  2004,  1037,  2112,  1997,  2009,  2061,\n",
            "         2007,  4847,  2000,  1996, 13531,  1997,  2974,  2006,  2554,  1010,\n",
            "         2057,  2031,  2671,  1012,  4748,  6736,  2024,  5356,  2378,  1043,\n",
            "         1999,  2006,  2049,  1005,  3293,  3012,  1998,  7008,  1998,  6773,\n",
            "         2006,  4816, 10683,  2229,  1010,  2009,  2145,  3849,  2066,  4223,\n",
            "         1012,  2317,  2041,  1012,  2304,  2041,  1012,  4597,  2041,  1012,\n",
            "         2009,  2134,  1005,  1056,  4148,  1010,  2348,  2521,  2013,  1052,\n",
            "         9413, 25969,  1010,  2926,  1999,  2008,  2009,  3653, 20464, 22087,\n",
            "         1037,  6565,  7526,  2005,  2023,  1012,  1045,  2064,  1005,  1056,\n",
            "         3305,  2129,  2111,  2064, 11160,  2061, 14815,  1011, 14535,  2015,\n",
            "         1997,  1996,  2396,  2088,  1012,  5678,  1010,  4898,  1998,  9559,\n",
            "         2664,  2000,  2128,  9353,  2232,  2049,  2440,  4022,  1012,  1045,\n",
            "         2064,  2069,  5674,  2054,  2925,  3274,  3898,  1010,  7570,  1059,\n",
            "         2052,  2256, 10617,  1997,  7976,  3746,  2449,  4237,  1012,  2045,\n",
            "         2097,  2022,  1056,  2002,  3274,  3550,  3696,  7340,  1998,  1996,\n",
            "         2108, 21839,  2083, 14203, 23428,  1997,  2974,  1010,  2035,  1999,\n",
            "         2054,  4012,  2361,  2019,  3111,  2097,  2031,  1037, 15404,  2006,\n",
            "         1996,  2326,  1012,  2004,  2578,  2038,  6147,  1999,  1996, 29461,\n",
            "         1050,  2094,  1999,  2530,  3226,  2144,  1996,  2601,  5535,  1997,\n",
            "        12020,  2008,  2024,  4895,  9581,  2290, 27118,  6024,  2000,  2529,\n",
            "         3241,  1012,  5379,  1012,  2025,  2008,  1996,  3068,  3475,  1005,\n",
            "         1056, 18066,  2047,  2111,  2046,  4301,  1039,  2019,  2022,  3133,\n",
            "         2046,  1037,  3274,  2083,  2376, 13791,  1012,  9859,  2003,  9587,\n",
            "         2128,  2566, 12044,  3512,  2004,  1996,  2086,  2175,  2011,  1012,\n",
            "         2057,  2031, 10373,  2291,  1999,  2037,  5812, 21335,  3775,  2080,\n",
            "         1050,  1012,  3265, 27612,  2097,  2031,  1998,  2025,  1996,  5859,\n",
            "         2993,  1012,  8160,  1998, 28967,  5051, 27469,  2085,  2031,  4650,\n",
            "         1045,  2655, 23760,  1011,  7073,  1012,  2505,  1998,  2673,  2026,\n",
            "         2274,  1045,  2467,  2165, 26927,  2094,  1041,  1999,  4209,  2008,\n",
            "         1996,  3114,  1045,  2001,  5086,  2005,  2097,  2022,  2583,  2000,\n",
            "         6204,  3679,  2147,  3450,  2302,  2975,  1996,  1996, 18479,  3021,\n",
            "         2043,  2017,  5247,  2035,  1997,  2115,  2051,  1999,  1058,  1012,\n",
            "         1054,  1012,  1998, 14629,  2635,  2005,  4379,  1996, 15106,  1997,\n",
            "         2054,  2974, 10947,  2944,  3274,  1012,  1045,  2059,  2787,  2000,\n",
            "         8556,  1037,  2210,  2062,  4650,  1045,  2655, 23760,  1011,  7073,\n",
            "         1012,  2151,  2518,  1998,  2673,  2026,  2274,  2998,  1998, 12257,\n",
            "         3450,  2097,  2022,  1996,  2069,  5387,  9587, 29068,  5844,  1000,\n",
            "         2332,  1000,  1997,  1996,  4807,  1011, 18558,  6125,  1012,  2074,\n",
            "         2066,  2012,  1004,  1056,  1998, 10660,  2202,  1011,  1051,  3726,\n",
            "         1054,  1012, 18868,  1010,  2047, 23374,  2089,  2765,  3274,  1012,\n",
            "         2593,   102])\n",
            "Attention Mask: tensor([1, 1, 1, 1, 1, 1, 1, 1, 1, 1, 1, 1, 1, 1, 1, 1, 1, 1, 1, 1, 1, 1, 1, 1,\n",
            "        1, 1, 1, 1, 1, 1, 1, 1, 1, 1, 1, 1, 1, 1, 1, 1, 1, 1, 1, 1, 1, 1, 1, 1,\n",
            "        1, 1, 1, 1, 1, 1, 1, 1, 1, 1, 1, 1, 1, 1, 1, 1, 1, 1, 1, 1, 1, 1, 1, 1,\n",
            "        1, 1, 1, 1, 1, 1, 1, 1, 1, 1, 1, 1, 1, 1, 1, 1, 1, 1, 1, 1, 1, 1, 1, 1,\n",
            "        1, 1, 1, 1, 1, 1, 1, 1, 1, 1, 1, 1, 1, 1, 1, 1, 1, 1, 1, 1, 1, 1, 1, 1,\n",
            "        1, 1, 1, 1, 1, 1, 1, 1, 1, 1, 1, 1, 1, 1, 1, 1, 1, 1, 1, 1, 1, 1, 1, 1,\n",
            "        1, 1, 1, 1, 1, 1, 1, 1, 1, 1, 1, 1, 1, 1, 1, 1, 1, 1, 1, 1, 1, 1, 1, 1,\n",
            "        1, 1, 1, 1, 1, 1, 1, 1, 1, 1, 1, 1, 1, 1, 1, 1, 1, 1, 1, 1, 1, 1, 1, 1,\n",
            "        1, 1, 1, 1, 1, 1, 1, 1, 1, 1, 1, 1, 1, 1, 1, 1, 1, 1, 1, 1, 1, 1, 1, 1,\n",
            "        1, 1, 1, 1, 1, 1, 1, 1, 1, 1, 1, 1, 1, 1, 1, 1, 1, 1, 1, 1, 1, 1, 1, 1,\n",
            "        1, 1, 1, 1, 1, 1, 1, 1, 1, 1, 1, 1, 1, 1, 1, 1, 1, 1, 1, 1, 1, 1, 1, 1,\n",
            "        1, 1, 1, 1, 1, 1, 1, 1, 1, 1, 1, 1, 1, 1, 1, 1, 1, 1, 1, 1, 1, 1, 1, 1,\n",
            "        1, 1, 1, 1, 1, 1, 1, 1, 1, 1, 1, 1, 1, 1, 1, 1, 1, 1, 1, 1, 1, 1, 1, 1,\n",
            "        1, 1, 1, 1, 1, 1, 1, 1, 1, 1, 1, 1, 1, 1, 1, 1, 1, 1, 1, 1, 1, 1, 1, 1,\n",
            "        1, 1, 1, 1, 1, 1, 1, 1, 1, 1, 1, 1, 1, 1, 1, 1, 1, 1, 1, 1, 1, 1, 1, 1,\n",
            "        1, 1, 1, 1, 1, 1, 1, 1, 1, 1, 1, 1, 1, 1, 1, 1, 1, 1, 1, 1, 1, 1, 1, 1,\n",
            "        1, 1, 1, 1, 1, 1, 1, 1, 1, 1, 1, 1, 1, 1, 1, 1, 1, 1, 1, 1, 1, 1, 1, 1,\n",
            "        1, 1, 1, 1, 1, 1, 1, 1, 1, 1, 1, 1, 1, 1, 1, 1, 1, 1, 1, 1, 1, 1, 1, 1,\n",
            "        1, 1, 1, 1, 1, 1, 1, 1, 1, 1, 1, 1, 1, 1, 1, 1, 1, 1, 1, 1, 1, 1, 1, 1,\n",
            "        1, 1, 1, 1, 1, 1, 1, 1, 1, 1, 1, 1, 1, 1, 1, 1, 1, 1, 1, 1, 1, 1, 1, 1,\n",
            "        1, 1, 1, 1, 1, 1, 1, 1, 1, 1, 1, 1, 1, 1, 1, 1, 1, 1, 1, 1, 1, 1, 1, 1,\n",
            "        1, 1, 1, 1, 1, 1, 1, 1])\n",
            "Label: tensor(1)\n"
          ]
        }
      ],
      "source": [
        "# Show the first sample (input_ids, attention_mask, label)\n",
        "input_ids, attention_mask, label = dataset[4]\n",
        "\n",
        "print(\"Input IDs:\", input_ids)\n",
        "print(\"Attention Mask:\", attention_mask)\n",
        "print(\"Label:\", label)"
      ]
    },
    {
      "cell_type": "code",
      "execution_count": null,
      "id": "d704f123-8a91-4322-bbda-8103281930d1",
      "metadata": {
        "id": "d704f123-8a91-4322-bbda-8103281930d1",
        "outputId": "d34c21dd-bedc-45e4-ff2b-844dee0f4887"
      },
      "outputs": [
        {
          "name": "stdout",
          "output_type": "stream",
          "text": [
            "[ perl # 42378 ] [ todo ] explicit exit from debug _ break ( ) op is not ok # new ticket created by paul cochrane # please include the string : [ perl # 42378 ] # in the subject line of all future correspondence about this issue. # in the file src / ops / debug. ops in the debug _ break ( ) op, there is an explicit exit ( 0 ), which is marked as being not an ok thing to do. this issue needs to be investigated and fixed.\n"
          ]
        }
      ],
      "source": [
        "# Get first sample from dataset\n",
        "input_ids = dataset[500][0]\n",
        "\n",
        "# Decode it to readable text\n",
        "decoded = tokenizer.decode(input_ids, skip_special_tokens=True)\n",
        "\n",
        "print(decoded)"
      ]
    },
    {
      "cell_type": "code",
      "execution_count": null,
      "id": "1cb09146-5342-418d-801d-bd268ffeec73",
      "metadata": {
        "id": "1cb09146-5342-418d-801d-bd268ffeec73",
        "outputId": "121c9321-ab93-4cd9-cfaa-c6ffa5d19991"
      },
      "outputs": [
        {
          "name": "stdout",
          "output_type": "stream",
          "text": [
            "or trembling ; stomach cramps ; trouble in sleeping ; weakness loose boundary = \" - - - - = _ nextpart _ 001 _ 001a _ 01c77a12. c744e6d0 \" - - - - - - = _ nextpart _ 001 _ 001a _ 01c77a12. c744e6d0 charset = \" windows - 1251 \" system \" of the home. it will have the capabilities to be linked far as i know, and what i am doing within it, as a part of it so with respect to the affects of technology on society, we have science. ad agencies are cashin g in on its'commerciality and photographs and paint on electronic canvases, it still seems like silence. white out. black out. lights out. it didn't happen, although far from p erfect, especially in that it precludes a vast explanation for this. i can't understand how people can rely so avant - gardes of the art world. additionally, writers and lawyers yet to re ach its full potential. i can only imagine what future computer screen, ho w would our perception of artificial image business apart. there will be t he computerized sign shops and the being filtered through unnecessary laborers of technology, all in what comp anies will have a monopoly on the service. as services has roots in the tre nd in western culture since the dark ages of possibilities that are unimag inative to human thinking. friendly. not that the industry isn't welcoming new people into thoughts c an be entered into a computer through voice activation. capabilities is mo re pervasive as the years go by. we have email system in their organizatio n. individual booths will have and not the designer itself. architects and draftspeople now have condition i call hyper - awareness. anything and everything my five i always took prid e in knowing that the reason i was hired for will be able to conduct daily work activities without leaving the the hydro bill when you spend all of your time in v. r. and potatoes taking for granted the convenience of what technology newer model computer. i then decided to investigate a little more condition i call hyper - awareness. any thing and everything my five sports and leisure activities will be the only factor motivating \" king \" of the communication - info networks. just like at & t and technological take - ove r. conversely, new occupations may result computer. either\n"
          ]
        }
      ],
      "source": [
        "# Get first sample from dataset\n",
        "input_ids = dataset[4][0]\n",
        "\n",
        "# Decode it to readable text\n",
        "decoded = tokenizer.decode(input_ids, skip_special_tokens=True)\n",
        "\n",
        "print(decoded)"
      ]
    },
    {
      "cell_type": "code",
      "execution_count": null,
      "id": "e9edc5fd-c55a-4a8a-bab1-66ccbf823dae",
      "metadata": {
        "id": "e9edc5fd-c55a-4a8a-bab1-66ccbf823dae"
      },
      "outputs": [],
      "source": [
        "from sklearn.model_selection import train_test_split\n",
        "\n",
        "# Create indices\n",
        "indices = list(range(len(labels)))\n",
        "\n",
        "# Split with stratify\n",
        "train_idx, val_idx = train_test_split(\n",
        "    indices,\n",
        "    test_size=0.2,\n",
        "    stratify=labels,\n",
        "    random_state=42\n",
        ")"
      ]
    },
    {
      "cell_type": "code",
      "execution_count": null,
      "id": "97bffa9e-c726-4777-9bc4-85ba58202493",
      "metadata": {
        "id": "97bffa9e-c726-4777-9bc4-85ba58202493"
      },
      "outputs": [],
      "source": [
        "train_dataset = TensorDataset(\n",
        "    encoded_all['input_ids'][train_idx],\n",
        "    encoded_all['attention_mask'][train_idx],\n",
        "    labels[train_idx]\n",
        ")\n",
        "\n",
        "val_dataset = TensorDataset(\n",
        "    encoded_all['input_ids'][val_idx],\n",
        "    encoded_all['attention_mask'][val_idx],\n",
        "    labels[val_idx]\n",
        ")"
      ]
    },
    {
      "cell_type": "code",
      "execution_count": null,
      "id": "2235cc4e-24ef-4343-baa6-82b8b6baabec",
      "metadata": {
        "id": "2235cc4e-24ef-4343-baa6-82b8b6baabec"
      },
      "outputs": [],
      "source": [
        "from torch.utils.data import DataLoader\n",
        "\n",
        "# Set your batch size\n",
        "batch_size = 16  # or 32 depending on your GPU\n",
        "\n",
        "# Create DataLoaders\n",
        "train_loader = DataLoader(train_dataset, batch_size=batch_size, shuffle=True)\n",
        "val_loader = DataLoader(val_dataset, batch_size=batch_size)"
      ]
    },
    {
      "cell_type": "code",
      "execution_count": null,
      "id": "149b772a-037d-4f07-817d-0403ee5d4141",
      "metadata": {
        "id": "149b772a-037d-4f07-817d-0403ee5d4141",
        "outputId": "6479b9a3-5833-4c06-8dd8-3a47c6e28c1e"
      },
      "outputs": [
        {
          "name": "stdout",
          "output_type": "stream",
          "text": [
            "2.7.0+cu118\n",
            "True\n"
          ]
        }
      ],
      "source": [
        "import torch\n",
        "print(torch.__version__)\n",
        "print(torch.cuda.is_available())"
      ]
    },
    {
      "cell_type": "code",
      "execution_count": null,
      "id": "33d5be8e-3175-4847-b6f4-f36d60bf0834",
      "metadata": {
        "id": "33d5be8e-3175-4847-b6f4-f36d60bf0834",
        "outputId": "6a9d10da-e3ac-4ab8-da19-490d995a45a1"
      },
      "outputs": [
        {
          "name": "stderr",
          "output_type": "stream",
          "text": [
            "Some weights of BertForSequenceClassification were not initialized from the model checkpoint at bert-base-uncased and are newly initialized: ['classifier.bias', 'classifier.weight']\n",
            "You should probably TRAIN this model on a down-stream task to be able to use it for predictions and inference.\n"
          ]
        }
      ],
      "source": [
        "from transformers import BertForSequenceClassification\n",
        "\n",
        "# Load pre-trained BERT with classification head (binary: spam vs not spam)\n",
        "model = BertForSequenceClassification.from_pretrained('bert-base-uncased', num_labels=2)"
      ]
    },
    {
      "cell_type": "code",
      "execution_count": null,
      "id": "8cd5b12c-a0cd-4d23-a2be-37cf67caf9cd",
      "metadata": {
        "id": "8cd5b12c-a0cd-4d23-a2be-37cf67caf9cd",
        "outputId": "2ed07413-809a-496d-c2a6-61d936a93c5a"
      },
      "outputs": [
        {
          "data": {
            "text/plain": [
              "BertForSequenceClassification(\n",
              "  (bert): BertModel(\n",
              "    (embeddings): BertEmbeddings(\n",
              "      (word_embeddings): Embedding(30522, 768, padding_idx=0)\n",
              "      (position_embeddings): Embedding(512, 768)\n",
              "      (token_type_embeddings): Embedding(2, 768)\n",
              "      (LayerNorm): LayerNorm((768,), eps=1e-12, elementwise_affine=True)\n",
              "      (dropout): Dropout(p=0.1, inplace=False)\n",
              "    )\n",
              "    (encoder): BertEncoder(\n",
              "      (layer): ModuleList(\n",
              "        (0-11): 12 x BertLayer(\n",
              "          (attention): BertAttention(\n",
              "            (self): BertSdpaSelfAttention(\n",
              "              (query): Linear(in_features=768, out_features=768, bias=True)\n",
              "              (key): Linear(in_features=768, out_features=768, bias=True)\n",
              "              (value): Linear(in_features=768, out_features=768, bias=True)\n",
              "              (dropout): Dropout(p=0.1, inplace=False)\n",
              "            )\n",
              "            (output): BertSelfOutput(\n",
              "              (dense): Linear(in_features=768, out_features=768, bias=True)\n",
              "              (LayerNorm): LayerNorm((768,), eps=1e-12, elementwise_affine=True)\n",
              "              (dropout): Dropout(p=0.1, inplace=False)\n",
              "            )\n",
              "          )\n",
              "          (intermediate): BertIntermediate(\n",
              "            (dense): Linear(in_features=768, out_features=3072, bias=True)\n",
              "            (intermediate_act_fn): GELUActivation()\n",
              "          )\n",
              "          (output): BertOutput(\n",
              "            (dense): Linear(in_features=3072, out_features=768, bias=True)\n",
              "            (LayerNorm): LayerNorm((768,), eps=1e-12, elementwise_affine=True)\n",
              "            (dropout): Dropout(p=0.1, inplace=False)\n",
              "          )\n",
              "        )\n",
              "      )\n",
              "    )\n",
              "    (pooler): BertPooler(\n",
              "      (dense): Linear(in_features=768, out_features=768, bias=True)\n",
              "      (activation): Tanh()\n",
              "    )\n",
              "  )\n",
              "  (dropout): Dropout(p=0.1, inplace=False)\n",
              "  (classifier): Linear(in_features=768, out_features=2, bias=True)\n",
              ")"
            ]
          },
          "execution_count": 44,
          "metadata": {},
          "output_type": "execute_result"
        }
      ],
      "source": [
        "device = torch.device('cuda' if torch.cuda.is_available() else 'cpu')\n",
        "model.to(device)"
      ]
    },
    {
      "cell_type": "code",
      "execution_count": null,
      "id": "6a285b23-11a5-4c98-be1a-cd073993a2e2",
      "metadata": {
        "id": "6a285b23-11a5-4c98-be1a-cd073993a2e2"
      },
      "outputs": [],
      "source": [
        "from torch.optim import AdamW\n",
        "\n",
        "optimizer = AdamW(model.parameters(), lr=2e-5)"
      ]
    },
    {
      "cell_type": "code",
      "execution_count": null,
      "id": "35f880c1-bd01-477e-9e30-e0b4221632bc",
      "metadata": {
        "id": "35f880c1-bd01-477e-9e30-e0b4221632bc",
        "outputId": "035b4d44-9eba-4a06-9f1b-52ce42641c2b"
      },
      "outputs": [
        {
          "name": "stderr",
          "output_type": "stream",
          "text": [
            "100%|██████████████████████████████████████████████████████████████████████████████| 3771/3771 [36:53<00:00,  1.70it/s]\n"
          ]
        }
      ],
      "source": [
        "from tqdm import tqdm  # progress bar\n",
        "\n",
        "model.train()  # set model to training mode\n",
        "\n",
        "for batch in tqdm(train_loader):\n",
        "    input_ids, attention_mask, labels = [x.to(device) for x in batch]\n",
        "\n",
        "    outputs = model(\n",
        "        input_ids=input_ids,\n",
        "        attention_mask=attention_mask,\n",
        "        labels=labels\n",
        "    )\n",
        "\n",
        "    loss = outputs.loss\n",
        "    loss.backward()\n",
        "\n",
        "    optimizer.step()\n",
        "    optimizer.zero_grad()"
      ]
    },
    {
      "cell_type": "code",
      "execution_count": null,
      "id": "1c03c411-6644-482a-a302-188c757a06b4",
      "metadata": {
        "id": "1c03c411-6644-482a-a302-188c757a06b4",
        "outputId": "1ae37332-ac1f-4866-fa8a-5fe37ea4ce8a"
      },
      "outputs": [
        {
          "data": {
            "text/plain": [
              "BertForSequenceClassification(\n",
              "  (bert): BertModel(\n",
              "    (embeddings): BertEmbeddings(\n",
              "      (word_embeddings): Embedding(30522, 768, padding_idx=0)\n",
              "      (position_embeddings): Embedding(512, 768)\n",
              "      (token_type_embeddings): Embedding(2, 768)\n",
              "      (LayerNorm): LayerNorm((768,), eps=1e-12, elementwise_affine=True)\n",
              "      (dropout): Dropout(p=0.1, inplace=False)\n",
              "    )\n",
              "    (encoder): BertEncoder(\n",
              "      (layer): ModuleList(\n",
              "        (0-11): 12 x BertLayer(\n",
              "          (attention): BertAttention(\n",
              "            (self): BertSdpaSelfAttention(\n",
              "              (query): Linear(in_features=768, out_features=768, bias=True)\n",
              "              (key): Linear(in_features=768, out_features=768, bias=True)\n",
              "              (value): Linear(in_features=768, out_features=768, bias=True)\n",
              "              (dropout): Dropout(p=0.1, inplace=False)\n",
              "            )\n",
              "            (output): BertSelfOutput(\n",
              "              (dense): Linear(in_features=768, out_features=768, bias=True)\n",
              "              (LayerNorm): LayerNorm((768,), eps=1e-12, elementwise_affine=True)\n",
              "              (dropout): Dropout(p=0.1, inplace=False)\n",
              "            )\n",
              "          )\n",
              "          (intermediate): BertIntermediate(\n",
              "            (dense): Linear(in_features=768, out_features=3072, bias=True)\n",
              "            (intermediate_act_fn): GELUActivation()\n",
              "          )\n",
              "          (output): BertOutput(\n",
              "            (dense): Linear(in_features=3072, out_features=768, bias=True)\n",
              "            (LayerNorm): LayerNorm((768,), eps=1e-12, elementwise_affine=True)\n",
              "            (dropout): Dropout(p=0.1, inplace=False)\n",
              "          )\n",
              "        )\n",
              "      )\n",
              "    )\n",
              "    (pooler): BertPooler(\n",
              "      (dense): Linear(in_features=768, out_features=768, bias=True)\n",
              "      (activation): Tanh()\n",
              "    )\n",
              "  )\n",
              "  (dropout): Dropout(p=0.1, inplace=False)\n",
              "  (classifier): Linear(in_features=768, out_features=2, bias=True)\n",
              ")"
            ]
          },
          "execution_count": 48,
          "metadata": {},
          "output_type": "execute_result"
        }
      ],
      "source": [
        "model.eval()"
      ]
    },
    {
      "cell_type": "code",
      "execution_count": null,
      "id": "8b5c4c32-c45d-4031-a22a-06df8ba72950",
      "metadata": {
        "id": "8b5c4c32-c45d-4031-a22a-06df8ba72950"
      },
      "outputs": [],
      "source": [
        "correct = 0\n",
        "total = 0\n",
        "\n",
        "with torch.no_grad():\n",
        "    for batch in val_loader:\n",
        "        input_ids, attention_mask, labels = [x.to(device) for x in batch]\n",
        "\n",
        "        outputs = model(\n",
        "            input_ids=input_ids,\n",
        "            attention_mask=attention_mask\n",
        "        )\n",
        "\n",
        "        logits = outputs.logits\n",
        "        predictions = torch.argmax(logits, dim=1)\n",
        "\n",
        "        correct += (predictions == labels).sum().item()\n",
        "        total += labels.size(0)"
      ]
    },
    {
      "cell_type": "code",
      "execution_count": null,
      "id": "c649985b-962d-4403-b672-88a014d4f7a4",
      "metadata": {
        "id": "c649985b-962d-4403-b672-88a014d4f7a4",
        "outputId": "c7c2ebe8-3ac8-4e54-c3a7-7b35639578c5"
      },
      "outputs": [
        {
          "name": "stdout",
          "output_type": "stream",
          "text": [
            "Validation accuracy: 99.7613365155%\n"
          ]
        }
      ],
      "source": [
        "print(f'Validation accuracy: {correct / total:.10%}')"
      ]
    },
    {
      "cell_type": "code",
      "execution_count": null,
      "id": "107d44aa-4db3-4f13-b54f-dcf7376fcde6",
      "metadata": {
        "id": "107d44aa-4db3-4f13-b54f-dcf7376fcde6",
        "outputId": "086c63fe-5ef6-439e-c4c2-ff8529059561"
      },
      "outputs": [
        {
          "name": "stdout",
          "output_type": "stream",
          "text": [
            "Counter({1: 10040, 0: 5044})\n"
          ]
        }
      ],
      "source": [
        "# Extract labels from val_dataset\n",
        "val_labels = [label.item() for _, _, label in val_dataset]\n",
        "\n",
        "# Count how many are spam (1) vs not-spam (0)\n",
        "from collections import Counter\n",
        "print(Counter(val_labels))"
      ]
    },
    {
      "cell_type": "code",
      "execution_count": null,
      "id": "28fad0cf-a762-4e6e-9c37-6feae068934d",
      "metadata": {
        "scrolled": true,
        "id": "28fad0cf-a762-4e6e-9c37-6feae068934d",
        "outputId": "2f22627b-fcda-4a55-a739-d66e6d9ebfcd"
      },
      "outputs": [
        {
          "name": "stdout",
          "output_type": "stream",
          "text": [
            "\n",
            "EMAIL 1\n",
            "Text: enjoy them all boundary = \" - - - - = _ nextpart _ 001 _ 0008 _ 01c77c25. 9c10f660 \" - - - - - - = _ nextpart _ 001 _ 0008 _ 01c77c25. 9c10f660 for a girl, \" answered jack, who looked down upon nan with condescending = a1 = a1demi subsided. that she \" touldn't tuddy, \" and saltonstall, jr., retreated precipitately that, the little brown hood slipped through the hedge nearly every for a girl, \" answered jack, who looked down upon nan with condescending for a girl, \" answered jack, who looked down upon nan with condescending ones i knew of. i was too late, and found the speaker's chair occupied \" thank you, sister. i = a1 = a1new houses, she drove about doing various errands for the aunts new houses, she drove about doing various errands for the aunts = a1 = a1are called kittens, and are dear things. i have two, named huz and i forgot all about them. but when i was making my plan, i knew i had a daughter, who is the rightful heir to the throne of the emerald in satisfaction, whispered to his coadjutor : \" not the gun fired one april morning at fort sumter told many laurie came back as quickly as he = a1 = a1gloss of her hair, and made her a prominent figure in the pleasant as he recognized the boy and remembered his loss. = a1 = a1she took off her old to his heart's content till the neigh of a horse from the circus a handsome, sharp - tongued woman, if any partner dared give it to the last touch to her room, she thought, and she was very proud the silver shoes = 3f \" \" i am on - ly a ma - chine. but i can think and speak and act, when coffee, aren't you = 3f = a1 = a1in her most energetic tone. open the fire, put on the saucepan, and in it the best of = a1 = a1ned was offended and turned to sallie for consolation, is absent template tom and polly were sitting side by side, enjoying the blissful polly wore inside her frock, and kissed so tenderly each night tiktok, \" what shall\n",
            "True Label: 1\n",
            "Prediction: 1\n",
            "\n",
            "EMAIL 2\n",
            "Text: start a career on google how are people earning $ 100 - $ 750 per day using google? start tapping into the power of google's billion dollar business. [ link ] making tons of money can be fast, easy, and fun. and having google on your side can help you create the income you need to quit your job. [ link ] discontinue future announcements : [ link ] or write to : 16192 coastal highway lewes, de 19958 trmedia520072005 no more mail : [ link ] or write to stickrange 1 research court suite450 rockville, md 20850\n",
            "True Label: 1\n",
            "Prediction: 1\n",
            "\n",
            "EMAIL 3\n",
            "Text: virginia massacre gunman revealed larry king live at 9 : 00 p. m. et on tuesday, april 17, 2007 cnn tonight : virginia massacre gunman revealed police identify the gunman who unleashed the worst mass - murder in u. s. history yesterday who is he? he senselessly slaughtered at least thirty people at virginia tech before taking his own life. the question still remains why? shocked and anguished families of innocent victims speak out. plus, hear the terrifying account of a survivor whose teacher was killed, and his classmates shot. also, dr. phil mcgraw on how the virginia tech community can start healing from this unimaginable horror. tonight only on larry king live! visit [ link ] and e - mail us your questions for tonights guest. larry king live can also be seen on cnn international at these times around the world : europe, middle east and africa ( cet ) live at 0300 south asia ( ist ) live at 13 : 30 asia pacific ( hkt ) live at 1600 latin america ( est ) live at 2100. wondering what guests and topics are on other cnn prime time shows? sign up to receive your'tonight on cnn'e - mail. cnn - - the most trusted name in news read our privacy guidelines at : [ link ] you have agreed to receive this email from cnn. com as a result of your cnn. com preference settings. to manage your settings go to [ link ] to unsubscribe from the larry king live list, go to [ email ] cable news network. one cnn center, atlanta, georgia 30303 ( c ) 2007 cable news network. a time warner company. all rights reserved. senselessly slaughtered at least thirty people at virginia tech before taking his own life. the question still remains why? shocked and anguished families of innocent victims speak out. plus, hear the terrifying account of a survivor whose teacher was killed, and his classmates shot. also, dr. phil mcgraw on how the virginia tech community can start healing from this unimaginable horror. tonight only on larry king live! visit [ link ] and e - mail us your questions for tonights guest. larry king live can also be seen on cnn international at these times around the world : europe, middle east and africa ( cet ) live at 0300 south asia ( ist ) live at 13 : 30 asia pacific ( hkt ) live at 1600 latin america ( est ) live at 2100. wondering what guests and topics are on other cnn prime time shows?\n",
            "True Label: 0\n",
            "Prediction: 0\n",
            "\n",
            "EMAIL 4\n",
            "Text: re : mac and install cpan installation of xcode * and * removing the cpan configuration file * sudo rm / system / library / perl / 5. 8. 6 / cpan / config. pm did the trick. i'm now back in business.!! on apr 30, 2007, at 12 : 27 pm, jonathan heard wrote : > have you installed the developer tools from apple developer > connection? > [ link ] > you have to download and install that toolset to get the compiler > and libraries. they do not come installed natively on the make. - - to unsubscribe, e - mail : [ email ] for additional commands, e - mail : [ email ] [ link ]\n",
            "True Label: 0\n",
            "Prediction: 0\n",
            "\n",
            "EMAIL 5\n",
            "Text: avis important et personnel cher ( e ) membre desjardins / accesd desjardins tient a vous signaler que votre derniere transaction n'a pas ete automatiquement enregistre du a un nombre eleve de transaction simultanee. le departement de verification comptable du groupe desjardins a corriger le probleme dans les comptes concernes. si toutefois vous notez une difference, nous vous prions de nous en aviser. si vous constatez une autre erreur, communiquez avec votre institution durant les heures de votre caisse. pour acceder a votre compte et verifier que tout soit normal, cliquez sur ce lien securise si dessus : [ link ] soyez assure que desjardins met tout en oeuvre pour proteger les utilisateurs de ses services internet le groupe desjardins vous remercie de votre clientele et apprecie votre comprehension. desjardins / accesd conjuguer avoirs et etres dear desjardins member the group desjardins would like to inform you that your last transaction was not automatically recorded due to a high number of simultaneous transactions. desjardins audit department corrected the problem in the accounts concerned. however if you notice a difference in your folio, we ask you to advise us by communicating with your institution during opening hours we encourage you to connect to your account and verify your transactions, by clicking the secured url below : [ link ] be assured that desjardins makes every effort to protect our internet users the group desjardins thanks you for your business and appreciates your comprehension desjardins / accesd money working for people svp ne repondez pas a ce courriel car c'est seulement un avis. le courrier envoye a cette adresse ne peut pas etre repondu. copyright © 2006 mouvement des caisses desjardins. tous droits reserves.\n",
            "True Label: 1\n",
            "Prediction: 1\n"
          ]
        }
      ],
      "source": [
        "model.eval()\n",
        "\n",
        "for i in range(5):\n",
        "    # Grab the i-th sample from val_dataset\n",
        "    input_ids, attention_mask, label = [x[i].unsqueeze(0).to(device) for x in val_dataset.tensors]\n",
        "\n",
        "    with torch.no_grad():\n",
        "        outputs = model(input_ids=input_ids, attention_mask=attention_mask)\n",
        "        prediction = torch.argmax(outputs.logits, dim=1).item()\n",
        "\n",
        "    decoded_text = tokenizer.decode(input_ids[0], skip_special_tokens=True)\n",
        "    print(f\"\\nEMAIL {i+1}\")\n",
        "    print(\"Text:\", decoded_text)\n",
        "    print(\"True Label:\", label.item())\n",
        "    print(\"Prediction:\", prediction)"
      ]
    },
    {
      "cell_type": "code",
      "execution_count": null,
      "id": "d33b5a65-84f3-47a1-b927-3fa2ebd3cadd",
      "metadata": {
        "id": "d33b5a65-84f3-47a1-b927-3fa2ebd3cadd"
      },
      "outputs": [],
      "source": [
        "from sklearn.metrics import precision_recall_fscore_support\n",
        "\n",
        "model.eval()\n",
        "y_true = []\n",
        "y_pred = []\n",
        "\n",
        "with torch.no_grad():\n",
        "    for batch in val_loader:\n",
        "        input_ids, attention_mask, labels = [x.to(device) for x in batch]\n",
        "\n",
        "        outputs = model(input_ids=input_ids, attention_mask=attention_mask)\n",
        "        logits = outputs.logits\n",
        "        predictions = torch.argmax(logits, dim=1)\n",
        "\n",
        "        y_true.extend(labels.cpu().numpy())\n",
        "        y_pred.extend(predictions.cpu().numpy())"
      ]
    },
    {
      "cell_type": "code",
      "execution_count": null,
      "id": "7c65f384-a2c0-4de9-be78-afb4af4e83b6",
      "metadata": {
        "id": "7c65f384-a2c0-4de9-be78-afb4af4e83b6",
        "outputId": "ebaa587d-1ea1-4c3f-b401-39ac72d85169"
      },
      "outputs": [
        {
          "name": "stdout",
          "output_type": "stream",
          "text": [
            "Precision: 99.71%\n",
            "Recall:    99.93%\n",
            "F1 Score:  99.82%\n"
          ]
        }
      ],
      "source": [
        "precision, recall, f1, _ = precision_recall_fscore_support(y_true, y_pred, average='binary')\n",
        "\n",
        "print(f\"Precision: {precision:.2%}\")\n",
        "print(f\"Recall:    {recall:.2%}\")\n",
        "print(f\"F1 Score:  {f1:.2%}\")"
      ]
    },
    {
      "cell_type": "code",
      "execution_count": null,
      "id": "c3144560-c8ca-49b8-a5ec-4aead4fdc31a",
      "metadata": {
        "id": "c3144560-c8ca-49b8-a5ec-4aead4fdc31a",
        "outputId": "ad92966a-535f-44b4-b0e9-58fb9265166b"
      },
      "outputs": [
        {
          "name": "stdout",
          "output_type": "stream",
          "text": [
            "[[ 5015    29]\n",
            " [    7 10033]]\n"
          ]
        }
      ],
      "source": [
        "from sklearn.metrics import confusion_matrix\n",
        "print(confusion_matrix(y_true, y_pred))"
      ]
    }
  ],
  "metadata": {
    "kernelspec": {
      "display_name": "Python 3 (ipykernel)",
      "language": "python",
      "name": "python3"
    },
    "language_info": {
      "codemirror_mode": {
        "name": "ipython",
        "version": 3
      },
      "file_extension": ".py",
      "mimetype": "text/x-python",
      "name": "python",
      "nbconvert_exporter": "python",
      "pygments_lexer": "ipython3",
      "version": "3.12.3"
    },
    "colab": {
      "provenance": [],
      "include_colab_link": true
    }
  },
  "nbformat": 4,
  "nbformat_minor": 5
}