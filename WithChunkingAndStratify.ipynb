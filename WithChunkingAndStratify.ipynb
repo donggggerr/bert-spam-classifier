{
  "cells": [
    {
      "cell_type": "markdown",
      "metadata": {
        "id": "view-in-github",
        "colab_type": "text"
      },
      "source": [
        "<a href=\"https://colab.research.google.com/github/donggggerr/bert-spam-detection/blob/main/WithChunkingAndStratify.ipynb\" target=\"_parent\"><img src=\"https://colab.research.google.com/assets/colab-badge.svg\" alt=\"Open In Colab\"/></a>"
      ]
    },
    {
      "cell_type": "code",
      "execution_count": null,
      "id": "82e781a1-b5c7-42e1-89c2-afb4d7cddf6b",
      "metadata": {
        "id": "82e781a1-b5c7-42e1-89c2-afb4d7cddf6b",
        "outputId": "6f78772a-136d-4abe-e12c-a589343a6ff0"
      },
      "outputs": [
        {
          "name": "stdout",
          "output_type": "stream",
          "text": [
            "True\n"
          ]
        }
      ],
      "source": [
        "import torch\n",
        "print(torch.cuda.is_available())"
      ]
    },
    {
      "cell_type": "code",
      "execution_count": null,
      "id": "a9f96b46-9ecd-4181-842d-1b180b962690",
      "metadata": {
        "id": "a9f96b46-9ecd-4181-842d-1b180b962690"
      },
      "outputs": [],
      "source": [
        "import pandas as pd\n",
        "from transformers import BertTokenizer\n",
        "from tqdm import tqdm\n",
        "import re\n",
        "from bs4 import BeautifulSoup"
      ]
    },
    {
      "cell_type": "code",
      "execution_count": null,
      "id": "48d5322d-ff61-445e-84b3-137274111b51",
      "metadata": {
        "id": "48d5322d-ff61-445e-84b3-137274111b51"
      },
      "outputs": [],
      "source": [
        "tqdm.pandas()"
      ]
    },
    {
      "cell_type": "code",
      "execution_count": null,
      "id": "66b180a3-c6d4-430a-8277-c0f61c65b43b",
      "metadata": {
        "id": "66b180a3-c6d4-430a-8277-c0f61c65b43b"
      },
      "outputs": [],
      "source": [
        "from google.colab import drive\n",
        "drive.mount('/content/drive')\n",
        "\n",
        "df = pd.read_csv('/content/drive/MyDrive/BERT_Dataset/processed_data.csv')"
      ]
    },
    {
      "cell_type": "code",
      "execution_count": null,
      "id": "45d65efe-8b1a-4150-814e-b39279460b02",
      "metadata": {
        "id": "45d65efe-8b1a-4150-814e-b39279460b02"
      },
      "outputs": [],
      "source": [
        "import re\n",
        "from bs4 import BeautifulSoup\n",
        "\n",
        "def clean_email_text(subject, message):\n",
        "    text = f\"{subject} {message}\"\n",
        "\n",
        "    text = BeautifulSoup(text, \"html.parser\").get_text()\n",
        "    text = re.sub(r'content-type:.*\\n', '', text, flags=re.IGNORECASE)\n",
        "    text = re.sub(r'content-transfer-encoding:.*\\n', '', text, flags=re.IGNORECASE)\n",
        "\n",
        "    text = re.sub(r'\\S+@\\S+', '[EMAIL]', text)\n",
        "    text = re.sub(r'http\\S+|www\\.\\S+', '[LINK]', text)\n",
        "\n",
        "    text = re.sub(r'=\\n|=20|\\xa0', ' ', text)\n",
        "    text = text.replace('\\n', ' ').replace('\\r', ' ')\n",
        "\n",
        "    text = text.lower()\n",
        "    text = re.sub(r'\\s+', ' ', text).strip()\n",
        "\n",
        "    return text"
      ]
    },
    {
      "cell_type": "code",
      "execution_count": null,
      "id": "da796cb4-3e59-4f30-b4cf-0121f30afd87",
      "metadata": {
        "id": "da796cb4-3e59-4f30-b4cf-0121f30afd87",
        "outputId": "a5124f4b-f5ed-4edc-bbd0-9b2f006d2832"
      },
      "outputs": [
        {
          "name": "stderr",
          "output_type": "stream",
          "text": [
            "C:\\Users\\rtgx2\\AppData\\Local\\Temp\\ipykernel_5812\\2980855508.py:9: MarkupResemblesLocatorWarning: The input looks more like a filename than markup. You may want to open this file and pass the filehandle into Beautiful Soup.\n",
            "  text = BeautifulSoup(text, \"html.parser\").get_text()\n"
          ]
        }
      ],
      "source": [
        "df['clean_email'] = df.apply(lambda row: clean_email_text(row['subject'], row['message']), axis=1)"
      ]
    },
    {
      "cell_type": "code",
      "execution_count": null,
      "id": "4299a6b6-e5b1-4f60-87e3-fecebd926810",
      "metadata": {
        "id": "4299a6b6-e5b1-4f60-87e3-fecebd926810",
        "outputId": "1888e4e9-9532-4b56-9153-eaf5a8dbdd96"
      },
      "outputs": [
        {
          "data": {
            "text/plain": [
              "0        generic cialis, branded quality@ content-trans...\n",
              "1        typo in /debian/readme hi, i've just updated f...\n",
              "2        authentic viagra charset=\"iso-8859-1\" mega aut...\n",
              "3        nice talking with ya hey billy, it was really ...\n",
              "4        or trembling; stomach cramps; trouble in sleep...\n",
              "                               ...                        \n",
              "75414    the reply for your request for a job place [le...\n",
              "75415    the reply for your request for a job place [le...\n",
              "75416    re: [r] me again, about the horrible documenta...\n",
              "75417    re: [r] rodbc problem hello, as i wrote i call...\n",
              "75418    i wanted the desk at his own laws: of the. but...\n",
              "Name: clean_email, Length: 75419, dtype: object"
            ]
          },
          "execution_count": 17,
          "metadata": {},
          "output_type": "execute_result"
        }
      ],
      "source": [
        "df['clean_email']"
      ]
    },
    {
      "cell_type": "code",
      "execution_count": null,
      "id": "4eef6f8d-03cf-4e02-9f09-8c24bb0a63a4",
      "metadata": {
        "id": "4eef6f8d-03cf-4e02-9f09-8c24bb0a63a4",
        "outputId": "327b1bbe-33f6-455c-b8e5-ce968242aa3c"
      },
      "outputs": [
        {
          "name": "stdout",
          "output_type": "stream",
          "text": [
            "count     75419.000000\n",
            "mean       2165.804545\n",
            "std        6969.610733\n",
            "min           2.000000\n",
            "25%         165.000000\n",
            "50%         357.000000\n",
            "75%         802.000000\n",
            "max      685663.000000\n",
            "Name: token_length, dtype: float64\n"
          ]
        }
      ],
      "source": [
        "from transformers import BertTokenizer\n",
        "\n",
        "# Load BERT tokenizer\n",
        "tokenizer = BertTokenizer.from_pretrained('bert-base-uncased')\n",
        "\n",
        "# Get token lengths\n",
        "df['token_length'] = df['clean_email'].apply(lambda x: len(tokenizer.tokenize(x)))\n",
        "\n",
        "# Show basic stats\n",
        "print(df['token_length'].describe())"
      ]
    },
    {
      "cell_type": "code",
      "execution_count": null,
      "id": "b847c313-54bb-49b3-828a-a88be2705321",
      "metadata": {
        "id": "b847c313-54bb-49b3-828a-a88be2705321"
      },
      "outputs": [],
      "source": [
        "def chunk_and_encode_email(text, tokenizer, max_length=512):\n",
        "    tokens = tokenizer.tokenize(text)\n",
        "    chunks = []\n",
        "\n",
        "    for i in range(0, len(tokens), max_length):\n",
        "        chunk_tokens = tokens[i:i + max_length]\n",
        "        chunk_text = tokenizer.convert_tokens_to_string(chunk_tokens)\n",
        "\n",
        "        encoded = tokenizer(\n",
        "            chunk_text,\n",
        "            padding='max_length',\n",
        "            truncation=True,\n",
        "            max_length=max_length,\n",
        "            return_tensors='pt'\n",
        "        )\n",
        "\n",
        "        chunks.append((encoded['input_ids'], encoded['attention_mask']))\n",
        "\n",
        "    return chunks"
      ]
    },
    {
      "cell_type": "code",
      "execution_count": null,
      "id": "2efb2159-79cb-4662-9690-cf68ffb65de0",
      "metadata": {
        "id": "2efb2159-79cb-4662-9690-cf68ffb65de0",
        "outputId": "dfa4c42e-6c4f-4f60-b013-97dc5101ac57"
      },
      "outputs": [
        {
          "name": "stdout",
          "output_type": "stream",
          "text": [
            "Number of chunks: 1\n",
            "Shape of first chunk input_ids: torch.Size([1, 512])\n"
          ]
        }
      ],
      "source": [
        "sample_email = df['clean_email'].iloc[0]\n",
        "chunks = chunk_and_encode_email(sample_email, tokenizer)\n",
        "\n",
        "print(f\"Number of chunks: {len(chunks)}\")\n",
        "print(\"Shape of first chunk input_ids:\", chunks[0][0].shape)\n"
      ]
    },
    {
      "cell_type": "code",
      "execution_count": null,
      "id": "6e470019-0051-49bf-8c9c-a7988fa36e24",
      "metadata": {
        "id": "6e470019-0051-49bf-8c9c-a7988fa36e24",
        "outputId": "3b496ee5-70cd-4245-cc48-e8e14facfd82"
      },
      "outputs": [
        {
          "name": "stdout",
          "output_type": "stream",
          "text": [
            "Number of chunks: 19\n",
            "Shape of first chunk input_ids: torch.Size([1, 512])\n"
          ]
        }
      ],
      "source": [
        "sample_email = df['clean_email'].iloc[4]\n",
        "chunks = chunk_and_encode_email(sample_email, tokenizer)\n",
        "\n",
        "print(f\"Number of chunks: {len(chunks)}\")\n",
        "print(\"Shape of first chunk input_ids:\", chunks[0][0].shape)\n"
      ]
    },
    {
      "cell_type": "code",
      "execution_count": null,
      "id": "0b011be7-e4bb-4573-91bd-fcd6f06c0e3a",
      "metadata": {
        "id": "0b011be7-e4bb-4573-91bd-fcd6f06c0e3a",
        "outputId": "5fb31a7f-f58e-47ea-c765-09e0bd12f0b8"
      },
      "outputs": [
        {
          "data": {
            "text/html": [
              "<div>\n",
              "<style scoped>\n",
              "    .dataframe tbody tr th:only-of-type {\n",
              "        vertical-align: middle;\n",
              "    }\n",
              "\n",
              "    .dataframe tbody tr th {\n",
              "        vertical-align: top;\n",
              "    }\n",
              "\n",
              "    .dataframe thead th {\n",
              "        text-align: right;\n",
              "    }\n",
              "</style>\n",
              "<table border=\"1\" class=\"dataframe\">\n",
              "  <thead>\n",
              "    <tr style=\"text-align: right;\">\n",
              "      <th></th>\n",
              "      <th>label</th>\n",
              "      <th>subject</th>\n",
              "      <th>email_to</th>\n",
              "      <th>email_from</th>\n",
              "      <th>message</th>\n",
              "      <th>clean_email</th>\n",
              "      <th>token_length</th>\n",
              "    </tr>\n",
              "  </thead>\n",
              "  <tbody>\n",
              "    <tr>\n",
              "      <th>0</th>\n",
              "      <td>1</td>\n",
              "      <td>Generic Cialis, branded quality@</td>\n",
              "      <td>the00@speedy.uwaterloo.ca</td>\n",
              "      <td>\"Tomas Jacobs\" &lt;RickyAmes@aol.com&gt;</td>\n",
              "      <td>Content-Type: text/html;\\nContent-Transfer-Enc...</td>\n",
              "      <td>generic cialis, branded quality@ content-trans...</td>\n",
              "      <td>59</td>\n",
              "    </tr>\n",
              "    <tr>\n",
              "      <th>1</th>\n",
              "      <td>0</td>\n",
              "      <td>Typo in /debian/README</td>\n",
              "      <td>debian-mirrors@lists.debian.org</td>\n",
              "      <td>Yan Morin &lt;yan.morin@savoirfairelinux.com&gt;</td>\n",
              "      <td>Hi, i've just updated from the gulus and I che...</td>\n",
              "      <td>typo in /debian/readme hi, i've just updated f...</td>\n",
              "      <td>180</td>\n",
              "    </tr>\n",
              "    <tr>\n",
              "      <th>2</th>\n",
              "      <td>1</td>\n",
              "      <td>authentic viagra</td>\n",
              "      <td>&lt;the00@plg.uwaterloo.ca&gt;</td>\n",
              "      <td>\"Sheila Crenshaw\" &lt;7stocknews@tractionmarketin...</td>\n",
              "      <td>Content-Type: text/plain;\\n\\tcharset=\"iso-8859...</td>\n",
              "      <td>authentic viagra charset=\"iso-8859-1\" mega aut...</td>\n",
              "      <td>95</td>\n",
              "    </tr>\n",
              "    <tr>\n",
              "      <th>3</th>\n",
              "      <td>1</td>\n",
              "      <td>Nice talking with ya</td>\n",
              "      <td>opt4@speedy.uwaterloo.ca</td>\n",
              "      <td>\"Stormy Dempsey\" &lt;vqucsmdfgvsg@ruraltek.com&gt;</td>\n",
              "      <td>Hey Billy, \\n\\nit was really fun going out the...</td>\n",
              "      <td>nice talking with ya hey billy, it was really ...</td>\n",
              "      <td>154</td>\n",
              "    </tr>\n",
              "    <tr>\n",
              "      <th>4</th>\n",
              "      <td>1</td>\n",
              "      <td>or trembling; stomach cramps; trouble in sleep...</td>\n",
              "      <td>ktwarwic@speedy.uwaterloo.ca</td>\n",
              "      <td>\"Christi T. Jernigan\" &lt;dcube@totalink.net&gt;</td>\n",
              "      <td>Content-Type: multipart/alternative;\\n        ...</td>\n",
              "      <td>or trembling; stomach cramps; trouble in sleep...</td>\n",
              "      <td>9367</td>\n",
              "    </tr>\n",
              "  </tbody>\n",
              "</table>\n",
              "</div>"
            ],
            "text/plain": [
              "   label                                            subject  \\\n",
              "0      1                  Generic Cialis, branded quality@    \n",
              "1      0                             Typo in /debian/README   \n",
              "2      1                                   authentic viagra   \n",
              "3      1                               Nice talking with ya   \n",
              "4      1  or trembling; stomach cramps; trouble in sleep...   \n",
              "\n",
              "                          email_to  \\\n",
              "0        the00@speedy.uwaterloo.ca   \n",
              "1  debian-mirrors@lists.debian.org   \n",
              "2         <the00@plg.uwaterloo.ca>   \n",
              "3         opt4@speedy.uwaterloo.ca   \n",
              "4     ktwarwic@speedy.uwaterloo.ca   \n",
              "\n",
              "                                          email_from  \\\n",
              "0                 \"Tomas Jacobs\" <RickyAmes@aol.com>   \n",
              "1         Yan Morin <yan.morin@savoirfairelinux.com>   \n",
              "2  \"Sheila Crenshaw\" <7stocknews@tractionmarketin...   \n",
              "3       \"Stormy Dempsey\" <vqucsmdfgvsg@ruraltek.com>   \n",
              "4         \"Christi T. Jernigan\" <dcube@totalink.net>   \n",
              "\n",
              "                                             message  \\\n",
              "0  Content-Type: text/html;\\nContent-Transfer-Enc...   \n",
              "1  Hi, i've just updated from the gulus and I che...   \n",
              "2  Content-Type: text/plain;\\n\\tcharset=\"iso-8859...   \n",
              "3  Hey Billy, \\n\\nit was really fun going out the...   \n",
              "4  Content-Type: multipart/alternative;\\n        ...   \n",
              "\n",
              "                                         clean_email  token_length  \n",
              "0  generic cialis, branded quality@ content-trans...            59  \n",
              "1  typo in /debian/readme hi, i've just updated f...           180  \n",
              "2  authentic viagra charset=\"iso-8859-1\" mega aut...            95  \n",
              "3  nice talking with ya hey billy, it was really ...           154  \n",
              "4  or trembling; stomach cramps; trouble in sleep...          9367  "
            ]
          },
          "execution_count": 32,
          "metadata": {},
          "output_type": "execute_result"
        }
      ],
      "source": [
        "df.head()"
      ]
    },
    {
      "cell_type": "code",
      "execution_count": null,
      "id": "3e681aa8-59d4-417d-a578-d7f162fb90b9",
      "metadata": {
        "id": "3e681aa8-59d4-417d-a578-d7f162fb90b9",
        "outputId": "fca5784c-a9cd-4da3-9b77-e919a1369caf"
      },
      "outputs": [
        {
          "name": "stderr",
          "output_type": "stream",
          "text": [
            "100%|████████████████████████████████████████████████████████████████████████████| 75419/75419 [46:02<00:00, 27.30it/s]\n"
          ]
        }
      ],
      "source": [
        "all_input_ids = []\n",
        "all_attention_masks = []\n",
        "all_labels = []\n",
        "email_chunk_map = []  # NEW\n",
        "\n",
        "for idx, row in tqdm(df.iterrows(), total=len(df)):\n",
        "    chunks = chunk_and_encode_email(row['clean_email'], tokenizer)\n",
        "\n",
        "    for input_ids, attention_mask in chunks:\n",
        "        all_input_ids.append(input_ids)\n",
        "        all_attention_masks.append(attention_mask)\n",
        "        all_labels.append(row['label'])  # same label for every chunk\n",
        "        email_chunk_map.append(idx)  # track which email this chunk came from\n"
      ]
    },
    {
      "cell_type": "code",
      "execution_count": null,
      "id": "5e2fc295-814e-47d4-aa65-934e4d4335ae",
      "metadata": {
        "id": "5e2fc295-814e-47d4-aa65-934e4d4335ae",
        "outputId": "a3444934-c096-4f56-ad71-3ae2cc0fa8fc"
      },
      "outputs": [
        {
          "name": "stdout",
          "output_type": "stream",
          "text": [
            "Total chunks: 359773\n"
          ]
        }
      ],
      "source": [
        "print(f\"Total chunks: {len(all_input_ids)}\")\n"
      ]
    },
    {
      "cell_type": "code",
      "execution_count": null,
      "id": "d8a5a3cf-c893-468f-98b1-2abb3963f929",
      "metadata": {
        "id": "d8a5a3cf-c893-468f-98b1-2abb3963f929"
      },
      "outputs": [],
      "source": [
        "import torch\n",
        "\n",
        "input_ids_tensor = torch.cat(all_input_ids, dim=0)\n",
        "attention_masks_tensor = torch.cat(all_attention_masks, dim=0)\n",
        "labels_tensor = torch.tensor(all_labels)\n"
      ]
    },
    {
      "cell_type": "code",
      "execution_count": null,
      "id": "d8b51054-27bf-477a-9d43-a861ed40ea23",
      "metadata": {
        "id": "d8b51054-27bf-477a-9d43-a861ed40ea23",
        "outputId": "708792bd-ca53-4541-a9d9-06caa4447c89"
      },
      "outputs": [
        {
          "name": "stdout",
          "output_type": "stream",
          "text": [
            "Input IDs shape: torch.Size([359773, 512])\n",
            "Attention mask shape: torch.Size([359773, 512])\n",
            "Labels shape: torch.Size([359773])\n"
          ]
        }
      ],
      "source": [
        "print(\"Input IDs shape:\", input_ids_tensor.shape)\n",
        "print(\"Attention mask shape:\", attention_masks_tensor.shape)\n",
        "print(\"Labels shape:\", labels_tensor.shape)\n"
      ]
    },
    {
      "cell_type": "code",
      "execution_count": null,
      "id": "81106189-6fcf-423e-99f1-26ba23bbfc7e",
      "metadata": {
        "id": "81106189-6fcf-423e-99f1-26ba23bbfc7e"
      },
      "outputs": [],
      "source": [
        "from sklearn.model_selection import train_test_split\n",
        "\n",
        "train_inputs, val_inputs, train_masks, val_masks, train_labels, val_labels = train_test_split(\n",
        "    input_ids_tensor,\n",
        "    attention_masks_tensor,\n",
        "    labels_tensor,\n",
        "    test_size=0.2,\n",
        "    stratify=labels_tensor,\n",
        "    random_state=42\n",
        ")\n"
      ]
    },
    {
      "cell_type": "code",
      "execution_count": null,
      "id": "920c8f6f-2cee-44a1-838d-d3648112f787",
      "metadata": {
        "id": "920c8f6f-2cee-44a1-838d-d3648112f787"
      },
      "outputs": [],
      "source": [
        "from sklearn.model_selection import train_test_split\n",
        "\n",
        "# Do the same split again, but now for email_chunk_map\n",
        "_, val_email_ids = train_test_split(\n",
        "    email_chunk_map,\n",
        "    test_size=0.2,\n",
        "    stratify=labels_tensor,\n",
        "    random_state=42\n",
        ")"
      ]
    },
    {
      "cell_type": "code",
      "execution_count": null,
      "id": "5584042d-8554-4fd0-836a-bcc9e814fedd",
      "metadata": {
        "id": "5584042d-8554-4fd0-836a-bcc9e814fedd"
      },
      "outputs": [],
      "source": [
        "from torch.utils.data import TensorDataset, DataLoader\n",
        "\n",
        "train_dataset = TensorDataset(train_inputs, train_masks, train_labels)\n",
        "val_dataset = TensorDataset(val_inputs, val_masks, val_labels)\n"
      ]
    },
    {
      "cell_type": "code",
      "execution_count": null,
      "id": "ebac4180-b58b-4a4a-b91a-f72d10557589",
      "metadata": {
        "id": "ebac4180-b58b-4a4a-b91a-f72d10557589"
      },
      "outputs": [],
      "source": [
        "batch_size = 16\n",
        "\n",
        "train_loader = DataLoader(train_dataset, batch_size=batch_size, shuffle=True)\n",
        "val_loader = DataLoader(val_dataset, batch_size=batch_size)\n"
      ]
    },
    {
      "cell_type": "code",
      "execution_count": null,
      "id": "b7dc3040-0254-4ec6-b40b-548207bb4bd2",
      "metadata": {
        "id": "b7dc3040-0254-4ec6-b40b-548207bb4bd2",
        "outputId": "9f009553-0b16-4a1a-e433-a0f2693caf85"
      },
      "outputs": [
        {
          "name": "stderr",
          "output_type": "stream",
          "text": [
            "Some weights of BertForSequenceClassification were not initialized from the model checkpoint at bert-base-uncased and are newly initialized: ['classifier.bias', 'classifier.weight']\n",
            "You should probably TRAIN this model on a down-stream task to be able to use it for predictions and inference.\n"
          ]
        },
        {
          "data": {
            "text/plain": [
              "BertForSequenceClassification(\n",
              "  (bert): BertModel(\n",
              "    (embeddings): BertEmbeddings(\n",
              "      (word_embeddings): Embedding(30522, 768, padding_idx=0)\n",
              "      (position_embeddings): Embedding(512, 768)\n",
              "      (token_type_embeddings): Embedding(2, 768)\n",
              "      (LayerNorm): LayerNorm((768,), eps=1e-12, elementwise_affine=True)\n",
              "      (dropout): Dropout(p=0.1, inplace=False)\n",
              "    )\n",
              "    (encoder): BertEncoder(\n",
              "      (layer): ModuleList(\n",
              "        (0-11): 12 x BertLayer(\n",
              "          (attention): BertAttention(\n",
              "            (self): BertSdpaSelfAttention(\n",
              "              (query): Linear(in_features=768, out_features=768, bias=True)\n",
              "              (key): Linear(in_features=768, out_features=768, bias=True)\n",
              "              (value): Linear(in_features=768, out_features=768, bias=True)\n",
              "              (dropout): Dropout(p=0.1, inplace=False)\n",
              "            )\n",
              "            (output): BertSelfOutput(\n",
              "              (dense): Linear(in_features=768, out_features=768, bias=True)\n",
              "              (LayerNorm): LayerNorm((768,), eps=1e-12, elementwise_affine=True)\n",
              "              (dropout): Dropout(p=0.1, inplace=False)\n",
              "            )\n",
              "          )\n",
              "          (intermediate): BertIntermediate(\n",
              "            (dense): Linear(in_features=768, out_features=3072, bias=True)\n",
              "            (intermediate_act_fn): GELUActivation()\n",
              "          )\n",
              "          (output): BertOutput(\n",
              "            (dense): Linear(in_features=3072, out_features=768, bias=True)\n",
              "            (LayerNorm): LayerNorm((768,), eps=1e-12, elementwise_affine=True)\n",
              "            (dropout): Dropout(p=0.1, inplace=False)\n",
              "          )\n",
              "        )\n",
              "      )\n",
              "    )\n",
              "    (pooler): BertPooler(\n",
              "      (dense): Linear(in_features=768, out_features=768, bias=True)\n",
              "      (activation): Tanh()\n",
              "    )\n",
              "  )\n",
              "  (dropout): Dropout(p=0.1, inplace=False)\n",
              "  (classifier): Linear(in_features=768, out_features=2, bias=True)\n",
              ")"
            ]
          },
          "execution_count": 41,
          "metadata": {},
          "output_type": "execute_result"
        }
      ],
      "source": [
        "from transformers import BertForSequenceClassification\n",
        "\n",
        "model = BertForSequenceClassification.from_pretrained('bert-base-uncased', num_labels=2)\n",
        "device = torch.device('cuda' if torch.cuda.is_available() else 'cpu')\n",
        "model.to(device)\n"
      ]
    },
    {
      "cell_type": "code",
      "execution_count": null,
      "id": "b7c78689-6e50-4c57-bf7e-ab884b4b9d54",
      "metadata": {
        "id": "b7c78689-6e50-4c57-bf7e-ab884b4b9d54"
      },
      "outputs": [],
      "source": [
        "from torch.optim import AdamW\n",
        "\n",
        "optimizer = AdamW(model.parameters(), lr=2e-5)\n"
      ]
    },
    {
      "cell_type": "code",
      "execution_count": null,
      "id": "6ba21ece-b5e6-4f6a-9247-b8c2406597c2",
      "metadata": {
        "id": "6ba21ece-b5e6-4f6a-9247-b8c2406597c2",
        "outputId": "61e28d8a-d4b8-4bb1-e396-6825f7df152f"
      },
      "outputs": [
        {
          "name": "stderr",
          "output_type": "stream",
          "text": [
            "100%|██████████████████████████████████████████████████████████████████████████| 17989/17989 [5:53:09<00:00,  1.18s/it]\n"
          ]
        }
      ],
      "source": [
        "from tqdm import tqdm\n",
        "\n",
        "model.train()\n",
        "\n",
        "for batch in tqdm(train_loader):\n",
        "    input_ids, attention_mask, labels = [x.to(device) for x in batch]\n",
        "\n",
        "    outputs = model(\n",
        "        input_ids=input_ids,\n",
        "        attention_mask=attention_mask,\n",
        "        labels=labels\n",
        "    )\n",
        "\n",
        "    loss = outputs.loss\n",
        "    loss.backward()\n",
        "\n",
        "    optimizer.step()\n",
        "    optimizer.zero_grad()\n"
      ]
    },
    {
      "cell_type": "code",
      "execution_count": null,
      "id": "f6b2f8ef-be28-4c6a-9e6b-f27b3608354a",
      "metadata": {
        "id": "f6b2f8ef-be28-4c6a-9e6b-f27b3608354a"
      },
      "outputs": [],
      "source": [
        "from torch.nn.functional import softmax\n",
        "\n",
        "model.eval()\n",
        "all_chunk_probs = []\n",
        "\n",
        "with torch.no_grad():\n",
        "    for input_ids, mask, labels in val_loader:\n",
        "        input_ids = input_ids.to(device)\n",
        "        mask = mask.to(device)\n",
        "\n",
        "        outputs = model(input_ids=input_ids, attention_mask=mask)\n",
        "        probs = softmax(outputs.logits, dim=1)[:, 1]  # spam class\n",
        "        all_chunk_probs.extend(probs.cpu().tolist())\n"
      ]
    },
    {
      "cell_type": "code",
      "execution_count": null,
      "id": "bb7d7550-b804-46d6-9531-7ce78453395b",
      "metadata": {
        "id": "bb7d7550-b804-46d6-9531-7ce78453395b"
      },
      "outputs": [],
      "source": [
        "from collections import defaultdict\n",
        "import numpy as np\n",
        "\n",
        "email_scores = defaultdict(list)\n",
        "email_true_labels = {}\n",
        "\n",
        "for prob, email_id, label in zip(all_chunk_probs, val_email_ids, val_labels):\n",
        "    email_scores[email_id].append(prob)\n",
        "    email_true_labels[email_id] = label.item()\n"
      ]
    },
    {
      "cell_type": "code",
      "execution_count": null,
      "id": "2518426b-9260-438e-9bd3-1bfc9394e892",
      "metadata": {
        "id": "2518426b-9260-438e-9bd3-1bfc9394e892"
      },
      "outputs": [],
      "source": [
        "final_preds = []\n",
        "final_labels = []\n",
        "\n",
        "for email_id, scores in email_scores.items():\n",
        "    avg_score = np.mean(scores)\n",
        "    pred = 1 if avg_score >= 0.5 else 0\n",
        "\n",
        "    final_preds.append(pred)\n",
        "    final_labels.append(email_true_labels[email_id])\n"
      ]
    },
    {
      "cell_type": "code",
      "execution_count": null,
      "id": "50549578-0893-431e-843d-db8745e6872e",
      "metadata": {
        "id": "50549578-0893-431e-843d-db8745e6872e",
        "outputId": "84a108a4-3efa-439a-b5d2-457f6ba35f3b"
      },
      "outputs": [
        {
          "name": "stdout",
          "output_type": "stream",
          "text": [
            "Accuracy: 0.9933533608711979\n",
            "Precision: 0.9918167809129071\n",
            "Recall: 0.9987692636986302\n",
            "F1: 0.9952808809022315\n"
          ]
        }
      ],
      "source": [
        "from sklearn.metrics import accuracy_score, precision_score, recall_score, f1_score\n",
        "\n",
        "print(\"Accuracy:\", accuracy_score(final_labels, final_preds))\n",
        "print(\"Precision:\", precision_score(final_labels, final_preds))\n",
        "print(\"Recall:\", recall_score(final_labels, final_preds))\n",
        "print(\"F1:\", f1_score(final_labels, final_preds))\n"
      ]
    },
    {
      "cell_type": "code",
      "execution_count": null,
      "id": "fdc7c597-6164-496f-9274-f9f90b12330d",
      "metadata": {
        "id": "fdc7c597-6164-496f-9274-f9f90b12330d",
        "outputId": "7c59c55a-ef95-432f-e5aa-618de6a14447"
      },
      "outputs": [
        {
          "data": {
            "text/plain": [
              "('long_training_my_spam_model\\\\tokenizer_config.json',\n",
              " 'long_training_my_spam_model\\\\special_tokens_map.json',\n",
              " 'long_training_my_spam_model\\\\vocab.txt',\n",
              " 'long_training_my_spam_model\\\\added_tokens.json')"
            ]
          },
          "execution_count": 57,
          "metadata": {},
          "output_type": "execute_result"
        }
      ],
      "source": [
        "model.save_pretrained(\"long_training_my_spam_model\")\n",
        "tokenizer.save_pretrained(\"long_training_my_spam_model\")"
      ]
    },
    {
      "cell_type": "code",
      "execution_count": null,
      "id": "79dda577-affe-417c-b064-ab7978b68637",
      "metadata": {
        "id": "79dda577-affe-417c-b064-ab7978b68637"
      },
      "outputs": [],
      "source": []
    }
  ],
  "metadata": {
    "kernelspec": {
      "display_name": "Python 3 (ipykernel)",
      "language": "python",
      "name": "python3"
    },
    "language_info": {
      "codemirror_mode": {
        "name": "ipython",
        "version": 3
      },
      "file_extension": ".py",
      "mimetype": "text/x-python",
      "name": "python",
      "nbconvert_exporter": "python",
      "pygments_lexer": "ipython3",
      "version": "3.12.3"
    },
    "colab": {
      "provenance": [],
      "include_colab_link": true
    }
  },
  "nbformat": 4,
  "nbformat_minor": 5
}